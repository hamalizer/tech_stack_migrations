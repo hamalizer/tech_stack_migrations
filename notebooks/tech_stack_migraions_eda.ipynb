{
 "cells": [
  {
   "cell_type": "markdown",
   "metadata": {},
   "source": [
    "# Tech Stack Migrations Analysis <a id='back'></a> \n",
    "\n",
    "* [Introduction](#intro)\n",
    "* [1 Imports, Load, and Data Overview](#data_over)\n",
    "    * [1.1 Overview Conclusion](#conc_over)\n",
    "* [2 Migrations Analysis](#analysis)\n",
    "    * [2.1 ](#user_stud)\n",
    "    * [2.6  Analysis Conclusion](#conc_stud)\n",
    "* [3 Test Hypothesis](#test_hyp)\n",
    "* [4 Final Conclusion](#conc_fin)"
   ]
  },
  {
   "cell_type": "markdown",
   "metadata": {},
   "source": [
    "# Introduction <a id='intro'></a>\n",
    "\n",
    "In this exploratory data analysys we will analyze our data and note general trends.\n",
    "\n",
    "Additionally, we will test one wild-guess hypothesis: most tech companies are moving to golang."
   ]
  },
  {
   "cell_type": "markdown",
   "metadata": {},
   "source": [
    "## Imports, Load, and Data Overview\n",
    "\n",
    "<a id='data_over'></a>"
   ]
  },
  {
   "cell_type": "code",
   "execution_count": 13,
   "metadata": {},
   "outputs": [],
   "source": [
    "# importing pandas, a general data-management library\n",
    "import pandas as pd\n",
    "\n",
    "# importing numpy, a general statistics library\n",
    "import numpy as np\n",
    "\n",
    "# importing scipy, a statistical analysis library\n",
    "from scipy import stats as st\n",
    "\n",
    "#import plotly express a quick and dirty graph plotting library\n",
    "import plotly.express as px"
   ]
  },
  {
   "cell_type": "code",
   "execution_count": 11,
   "metadata": {},
   "outputs": [
    {
     "name": "stdout",
     "output_type": "stream",
     "text": [
      "<class 'pandas.core.frame.DataFrame'>\n",
      "RangeIndex: 237 entries, 0 to 236\n",
      "Data columns (total 5 columns):\n",
      " #   Column   Non-Null Count  Dtype \n",
      "---  ------   --------------  ----- \n",
      " 0   company  237 non-null    object\n",
      " 1   url      237 non-null    object\n",
      " 2   year     237 non-null    int64 \n",
      " 3   from     237 non-null    object\n",
      " 4   to       237 non-null    object\n",
      "dtypes: int64(1), object(4)\n",
      "memory usage: 9.4+ KB\n"
     ]
    },
    {
     "data": {
      "text/html": [
       "<div>\n",
       "<style scoped>\n",
       "    .dataframe tbody tr th:only-of-type {\n",
       "        vertical-align: middle;\n",
       "    }\n",
       "\n",
       "    .dataframe tbody tr th {\n",
       "        vertical-align: top;\n",
       "    }\n",
       "\n",
       "    .dataframe thead th {\n",
       "        text-align: right;\n",
       "    }\n",
       "</style>\n",
       "<table border=\"1\" class=\"dataframe\">\n",
       "  <thead>\n",
       "    <tr style=\"text-align: right;\">\n",
       "      <th></th>\n",
       "      <th>year</th>\n",
       "    </tr>\n",
       "  </thead>\n",
       "  <tbody>\n",
       "    <tr>\n",
       "      <th>count</th>\n",
       "      <td>237.000000</td>\n",
       "    </tr>\n",
       "    <tr>\n",
       "      <th>mean</th>\n",
       "      <td>2018.345992</td>\n",
       "    </tr>\n",
       "    <tr>\n",
       "      <th>std</th>\n",
       "      <td>3.217819</td>\n",
       "    </tr>\n",
       "    <tr>\n",
       "      <th>min</th>\n",
       "      <td>2005.000000</td>\n",
       "    </tr>\n",
       "    <tr>\n",
       "      <th>25%</th>\n",
       "      <td>2017.000000</td>\n",
       "    </tr>\n",
       "    <tr>\n",
       "      <th>50%</th>\n",
       "      <td>2019.000000</td>\n",
       "    </tr>\n",
       "    <tr>\n",
       "      <th>75%</th>\n",
       "      <td>2021.000000</td>\n",
       "    </tr>\n",
       "    <tr>\n",
       "      <th>max</th>\n",
       "      <td>2023.000000</td>\n",
       "    </tr>\n",
       "  </tbody>\n",
       "</table>\n",
       "</div>"
      ],
      "text/plain": [
       "              year\n",
       "count   237.000000\n",
       "mean   2018.345992\n",
       "std       3.217819\n",
       "min    2005.000000\n",
       "25%    2017.000000\n",
       "50%    2019.000000\n",
       "75%    2021.000000\n",
       "max    2023.000000"
      ]
     },
     "metadata": {},
     "output_type": "display_data"
    },
    {
     "data": {
      "text/html": [
       "<div>\n",
       "<style scoped>\n",
       "    .dataframe tbody tr th:only-of-type {\n",
       "        vertical-align: middle;\n",
       "    }\n",
       "\n",
       "    .dataframe tbody tr th {\n",
       "        vertical-align: top;\n",
       "    }\n",
       "\n",
       "    .dataframe thead th {\n",
       "        text-align: right;\n",
       "    }\n",
       "</style>\n",
       "<table border=\"1\" class=\"dataframe\">\n",
       "  <thead>\n",
       "    <tr style=\"text-align: right;\">\n",
       "      <th></th>\n",
       "      <th>company</th>\n",
       "      <th>url</th>\n",
       "      <th>year</th>\n",
       "      <th>from</th>\n",
       "      <th>to</th>\n",
       "    </tr>\n",
       "  </thead>\n",
       "  <tbody>\n",
       "    <tr>\n",
       "      <th>201</th>\n",
       "      <td>Etsy</td>\n",
       "      <td>https://codeascraft.com/2021/11/08/etsys-journ...</td>\n",
       "      <td>2021</td>\n",
       "      <td>Javascript</td>\n",
       "      <td>Typescript</td>\n",
       "    </tr>\n",
       "    <tr>\n",
       "      <th>130</th>\n",
       "      <td>PayPal</td>\n",
       "      <td>https://go.dev/solutions/paypal/</td>\n",
       "      <td>2020</td>\n",
       "      <td>C++</td>\n",
       "      <td>Golang</td>\n",
       "    </tr>\n",
       "    <tr>\n",
       "      <th>88</th>\n",
       "      <td>Fanatics</td>\n",
       "      <td>https://www.singlestore.com/blog/how-fanatics-...</td>\n",
       "      <td>2018</td>\n",
       "      <td>ElasticSearch</td>\n",
       "      <td>SingleStore</td>\n",
       "    </tr>\n",
       "    <tr>\n",
       "      <th>95</th>\n",
       "      <td>2FintechGiants</td>\n",
       "      <td>https://www.youtube.com/watch?v=IG1E7O1rl-s</td>\n",
       "      <td>2019</td>\n",
       "      <td>Oracle</td>\n",
       "      <td>CockroachDB</td>\n",
       "    </tr>\n",
       "    <tr>\n",
       "      <th>211</th>\n",
       "      <td>WeWatch</td>\n",
       "      <td>https://jerseyfonseca.com/blogs/mongodb-to-pos...</td>\n",
       "      <td>2021</td>\n",
       "      <td>MongoDB</td>\n",
       "      <td>PostgreSQL</td>\n",
       "    </tr>\n",
       "  </tbody>\n",
       "</table>\n",
       "</div>"
      ],
      "text/plain": [
       "            company                                                url  year  \\\n",
       "201            Etsy  https://codeascraft.com/2021/11/08/etsys-journ...  2021   \n",
       "130          PayPal                   https://go.dev/solutions/paypal/  2020   \n",
       "88         Fanatics  https://www.singlestore.com/blog/how-fanatics-...  2018   \n",
       "95   2FintechGiants        https://www.youtube.com/watch?v=IG1E7O1rl-s  2019   \n",
       "211         WeWatch  https://jerseyfonseca.com/blogs/mongodb-to-pos...  2021   \n",
       "\n",
       "              from           to  \n",
       "201     Javascript   Typescript  \n",
       "130            C++       Golang  \n",
       "88   ElasticSearch  SingleStore  \n",
       "95          Oracle  CockroachDB  \n",
       "211        MongoDB   PostgreSQL  "
      ]
     },
     "metadata": {},
     "output_type": "display_data"
    },
    {
     "name": "stdout",
     "output_type": "stream",
     "text": [
      "\n",
      "Full duplicate rows: 0\n",
      "\n",
      "Duplicate company names: 28\n"
     ]
    }
   ],
   "source": [
    "# Load the dataset into a dataframe\n",
    "migrations = pd.read_csv('migrations.csv')\n",
    "\n",
    "# Display general information about the dataset \n",
    "migrations.info()\n",
    "display(migrations.describe())\n",
    "display(migrations.sample(n=5, random_state=1))\n",
    "\n",
    "# check for duplicates\n",
    "migrations_dup = migrations.duplicated().sum()\n",
    "print('\\nFull duplicate rows:',migrations_dup)\n",
    "# check duplicate company names\n",
    "migrations_dup = migrations['company'].str.lower().duplicated().sum()\n",
    "print('\\nDuplicate company names:',migrations_dup)"
   ]
  },
  {
   "cell_type": "markdown",
   "metadata": {},
   "source": [
    "## Overview Conclusion <a id='over_conc'></a>\n",
    "\n",
    "We can see our dataset regarding tech companies' stack migrations has the following columns containing respective data:\n",
    "* 1. Company - the name of the company which migrated\n",
    "* 2. url - the url of the news source detailing the migration\n",
    "* 3. year - the year of the migration\n",
    "* 4. from - the stack the company migrated from\n",
    "* 5. to - the stack the company migrated to\n",
    "\n",
    "We can see the dataset contains no duplicate rows but does detail a few companies which migrated stacks multiple times. This will have no bearing on our analysis nor our hypothesis."
   ]
  },
  {
   "cell_type": "markdown",
   "metadata": {},
   "source": [
    "## Migrations Analysis  <a id='analysis'></a>\n",
    "\n",
    "Now we will use the features of plotly express to perform a visually-assisted analysis."
   ]
  },
  {
   "cell_type": "code",
   "execution_count": 31,
   "metadata": {},
   "outputs": [
    {
     "data": {
      "application/vnd.plotly.v1+json": {
       "config": {
        "plotlyServerURL": "https://plot.ly"
       },
       "data": [
        {
         "alignmentgroup": "True",
         "bingroup": "x",
         "histfunc": "count",
         "hovertemplate": "year=%{x}<br>count=%{y}<extra></extra>",
         "legendgroup": "",
         "marker": {
          "color": "#636efa",
          "pattern": {
           "shape": ""
          }
         },
         "name": "",
         "offsetgroup": "",
         "orientation": "v",
         "showlegend": false,
         "type": "histogram",
         "x": [
          2005,
          2005,
          2010,
          2011,
          2011,
          2011,
          2012,
          2012,
          2012,
          2012,
          2012,
          2012,
          2012,
          2012,
          2012,
          2012,
          2012,
          2012,
          2012,
          2012,
          2013,
          2013,
          2013,
          2013,
          2013,
          2013,
          2013,
          2013,
          2014,
          2014,
          2014,
          2014,
          2014,
          2014,
          2015,
          2015,
          2015,
          2015,
          2015,
          2015,
          2015,
          2015,
          2016,
          2016,
          2016,
          2016,
          2016,
          2016,
          2016,
          2016,
          2016,
          2016,
          2016,
          2016,
          2017,
          2017,
          2017,
          2017,
          2017,
          2017,
          2017,
          2017,
          2017,
          2017,
          2017,
          2017,
          2017,
          2017,
          2017,
          2017,
          2017,
          2018,
          2018,
          2018,
          2018,
          2018,
          2018,
          2018,
          2018,
          2018,
          2018,
          2018,
          2018,
          2018,
          2018,
          2018,
          2018,
          2018,
          2018,
          2018,
          2018,
          2018,
          2019,
          2019,
          2019,
          2019,
          2019,
          2019,
          2019,
          2019,
          2019,
          2019,
          2019,
          2019,
          2019,
          2019,
          2019,
          2019,
          2019,
          2019,
          2019,
          2019,
          2019,
          2019,
          2019,
          2019,
          2019,
          2019,
          2019,
          2019,
          2019,
          2019,
          2020,
          2020,
          2020,
          2020,
          2020,
          2020,
          2020,
          2020,
          2020,
          2020,
          2020,
          2020,
          2020,
          2020,
          2020,
          2020,
          2020,
          2020,
          2020,
          2020,
          2020,
          2020,
          2020,
          2020,
          2020,
          2020,
          2020,
          2020,
          2020,
          2020,
          2020,
          2020,
          2020,
          2020,
          2020,
          2020,
          2020,
          2020,
          2020,
          2020,
          2020,
          2020,
          2020,
          2020,
          2020,
          2020,
          2020,
          2021,
          2021,
          2021,
          2021,
          2021,
          2021,
          2021,
          2021,
          2021,
          2021,
          2021,
          2021,
          2021,
          2021,
          2021,
          2021,
          2021,
          2021,
          2021,
          2021,
          2021,
          2021,
          2021,
          2021,
          2021,
          2021,
          2021,
          2021,
          2021,
          2021,
          2021,
          2021,
          2021,
          2021,
          2021,
          2021,
          2021,
          2021,
          2021,
          2021,
          2021,
          2021,
          2021,
          2021,
          2021,
          2021,
          2021,
          2022,
          2022,
          2022,
          2022,
          2022,
          2022,
          2022,
          2022,
          2022,
          2022,
          2022,
          2022,
          2022,
          2022,
          2022,
          2022,
          2022,
          2022,
          2022,
          2022,
          2023
         ],
         "xaxis": "x",
         "y": [
          2005,
          2005,
          2010,
          2011,
          2011,
          2011,
          2012,
          2012,
          2012,
          2012,
          2012,
          2012,
          2012,
          2012,
          2012,
          2012,
          2012,
          2012,
          2012,
          2012,
          2013,
          2013,
          2013,
          2013,
          2013,
          2013,
          2013,
          2013,
          2014,
          2014,
          2014,
          2014,
          2014,
          2014,
          2015,
          2015,
          2015,
          2015,
          2015,
          2015,
          2015,
          2015,
          2016,
          2016,
          2016,
          2016,
          2016,
          2016,
          2016,
          2016,
          2016,
          2016,
          2016,
          2016,
          2017,
          2017,
          2017,
          2017,
          2017,
          2017,
          2017,
          2017,
          2017,
          2017,
          2017,
          2017,
          2017,
          2017,
          2017,
          2017,
          2017,
          2018,
          2018,
          2018,
          2018,
          2018,
          2018,
          2018,
          2018,
          2018,
          2018,
          2018,
          2018,
          2018,
          2018,
          2018,
          2018,
          2018,
          2018,
          2018,
          2018,
          2018,
          2019,
          2019,
          2019,
          2019,
          2019,
          2019,
          2019,
          2019,
          2019,
          2019,
          2019,
          2019,
          2019,
          2019,
          2019,
          2019,
          2019,
          2019,
          2019,
          2019,
          2019,
          2019,
          2019,
          2019,
          2019,
          2019,
          2019,
          2019,
          2019,
          2019,
          2020,
          2020,
          2020,
          2020,
          2020,
          2020,
          2020,
          2020,
          2020,
          2020,
          2020,
          2020,
          2020,
          2020,
          2020,
          2020,
          2020,
          2020,
          2020,
          2020,
          2020,
          2020,
          2020,
          2020,
          2020,
          2020,
          2020,
          2020,
          2020,
          2020,
          2020,
          2020,
          2020,
          2020,
          2020,
          2020,
          2020,
          2020,
          2020,
          2020,
          2020,
          2020,
          2020,
          2020,
          2020,
          2020,
          2020,
          2021,
          2021,
          2021,
          2021,
          2021,
          2021,
          2021,
          2021,
          2021,
          2021,
          2021,
          2021,
          2021,
          2021,
          2021,
          2021,
          2021,
          2021,
          2021,
          2021,
          2021,
          2021,
          2021,
          2021,
          2021,
          2021,
          2021,
          2021,
          2021,
          2021,
          2021,
          2021,
          2021,
          2021,
          2021,
          2021,
          2021,
          2021,
          2021,
          2021,
          2021,
          2021,
          2021,
          2021,
          2021,
          2021,
          2021,
          2022,
          2022,
          2022,
          2022,
          2022,
          2022,
          2022,
          2022,
          2022,
          2022,
          2022,
          2022,
          2022,
          2022,
          2022,
          2022,
          2022,
          2022,
          2022,
          2022,
          2023
         ],
         "yaxis": "y"
        }
       ],
       "layout": {
        "barmode": "relative",
        "legend": {
         "tracegroupgap": 0
        },
        "margin": {
         "t": 60
        },
        "template": {
         "data": {
          "bar": [
           {
            "error_x": {
             "color": "#2a3f5f"
            },
            "error_y": {
             "color": "#2a3f5f"
            },
            "marker": {
             "line": {
              "color": "#E5ECF6",
              "width": 0.5
             },
             "pattern": {
              "fillmode": "overlay",
              "size": 10,
              "solidity": 0.2
             }
            },
            "type": "bar"
           }
          ],
          "barpolar": [
           {
            "marker": {
             "line": {
              "color": "#E5ECF6",
              "width": 0.5
             },
             "pattern": {
              "fillmode": "overlay",
              "size": 10,
              "solidity": 0.2
             }
            },
            "type": "barpolar"
           }
          ],
          "carpet": [
           {
            "aaxis": {
             "endlinecolor": "#2a3f5f",
             "gridcolor": "white",
             "linecolor": "white",
             "minorgridcolor": "white",
             "startlinecolor": "#2a3f5f"
            },
            "baxis": {
             "endlinecolor": "#2a3f5f",
             "gridcolor": "white",
             "linecolor": "white",
             "minorgridcolor": "white",
             "startlinecolor": "#2a3f5f"
            },
            "type": "carpet"
           }
          ],
          "choropleth": [
           {
            "colorbar": {
             "outlinewidth": 0,
             "ticks": ""
            },
            "type": "choropleth"
           }
          ],
          "contour": [
           {
            "colorbar": {
             "outlinewidth": 0,
             "ticks": ""
            },
            "colorscale": [
             [
              0,
              "#0d0887"
             ],
             [
              0.1111111111111111,
              "#46039f"
             ],
             [
              0.2222222222222222,
              "#7201a8"
             ],
             [
              0.3333333333333333,
              "#9c179e"
             ],
             [
              0.4444444444444444,
              "#bd3786"
             ],
             [
              0.5555555555555556,
              "#d8576b"
             ],
             [
              0.6666666666666666,
              "#ed7953"
             ],
             [
              0.7777777777777778,
              "#fb9f3a"
             ],
             [
              0.8888888888888888,
              "#fdca26"
             ],
             [
              1,
              "#f0f921"
             ]
            ],
            "type": "contour"
           }
          ],
          "contourcarpet": [
           {
            "colorbar": {
             "outlinewidth": 0,
             "ticks": ""
            },
            "type": "contourcarpet"
           }
          ],
          "heatmap": [
           {
            "colorbar": {
             "outlinewidth": 0,
             "ticks": ""
            },
            "colorscale": [
             [
              0,
              "#0d0887"
             ],
             [
              0.1111111111111111,
              "#46039f"
             ],
             [
              0.2222222222222222,
              "#7201a8"
             ],
             [
              0.3333333333333333,
              "#9c179e"
             ],
             [
              0.4444444444444444,
              "#bd3786"
             ],
             [
              0.5555555555555556,
              "#d8576b"
             ],
             [
              0.6666666666666666,
              "#ed7953"
             ],
             [
              0.7777777777777778,
              "#fb9f3a"
             ],
             [
              0.8888888888888888,
              "#fdca26"
             ],
             [
              1,
              "#f0f921"
             ]
            ],
            "type": "heatmap"
           }
          ],
          "heatmapgl": [
           {
            "colorbar": {
             "outlinewidth": 0,
             "ticks": ""
            },
            "colorscale": [
             [
              0,
              "#0d0887"
             ],
             [
              0.1111111111111111,
              "#46039f"
             ],
             [
              0.2222222222222222,
              "#7201a8"
             ],
             [
              0.3333333333333333,
              "#9c179e"
             ],
             [
              0.4444444444444444,
              "#bd3786"
             ],
             [
              0.5555555555555556,
              "#d8576b"
             ],
             [
              0.6666666666666666,
              "#ed7953"
             ],
             [
              0.7777777777777778,
              "#fb9f3a"
             ],
             [
              0.8888888888888888,
              "#fdca26"
             ],
             [
              1,
              "#f0f921"
             ]
            ],
            "type": "heatmapgl"
           }
          ],
          "histogram": [
           {
            "marker": {
             "pattern": {
              "fillmode": "overlay",
              "size": 10,
              "solidity": 0.2
             }
            },
            "type": "histogram"
           }
          ],
          "histogram2d": [
           {
            "colorbar": {
             "outlinewidth": 0,
             "ticks": ""
            },
            "colorscale": [
             [
              0,
              "#0d0887"
             ],
             [
              0.1111111111111111,
              "#46039f"
             ],
             [
              0.2222222222222222,
              "#7201a8"
             ],
             [
              0.3333333333333333,
              "#9c179e"
             ],
             [
              0.4444444444444444,
              "#bd3786"
             ],
             [
              0.5555555555555556,
              "#d8576b"
             ],
             [
              0.6666666666666666,
              "#ed7953"
             ],
             [
              0.7777777777777778,
              "#fb9f3a"
             ],
             [
              0.8888888888888888,
              "#fdca26"
             ],
             [
              1,
              "#f0f921"
             ]
            ],
            "type": "histogram2d"
           }
          ],
          "histogram2dcontour": [
           {
            "colorbar": {
             "outlinewidth": 0,
             "ticks": ""
            },
            "colorscale": [
             [
              0,
              "#0d0887"
             ],
             [
              0.1111111111111111,
              "#46039f"
             ],
             [
              0.2222222222222222,
              "#7201a8"
             ],
             [
              0.3333333333333333,
              "#9c179e"
             ],
             [
              0.4444444444444444,
              "#bd3786"
             ],
             [
              0.5555555555555556,
              "#d8576b"
             ],
             [
              0.6666666666666666,
              "#ed7953"
             ],
             [
              0.7777777777777778,
              "#fb9f3a"
             ],
             [
              0.8888888888888888,
              "#fdca26"
             ],
             [
              1,
              "#f0f921"
             ]
            ],
            "type": "histogram2dcontour"
           }
          ],
          "mesh3d": [
           {
            "colorbar": {
             "outlinewidth": 0,
             "ticks": ""
            },
            "type": "mesh3d"
           }
          ],
          "parcoords": [
           {
            "line": {
             "colorbar": {
              "outlinewidth": 0,
              "ticks": ""
             }
            },
            "type": "parcoords"
           }
          ],
          "pie": [
           {
            "automargin": true,
            "type": "pie"
           }
          ],
          "scatter": [
           {
            "fillpattern": {
             "fillmode": "overlay",
             "size": 10,
             "solidity": 0.2
            },
            "type": "scatter"
           }
          ],
          "scatter3d": [
           {
            "line": {
             "colorbar": {
              "outlinewidth": 0,
              "ticks": ""
             }
            },
            "marker": {
             "colorbar": {
              "outlinewidth": 0,
              "ticks": ""
             }
            },
            "type": "scatter3d"
           }
          ],
          "scattercarpet": [
           {
            "marker": {
             "colorbar": {
              "outlinewidth": 0,
              "ticks": ""
             }
            },
            "type": "scattercarpet"
           }
          ],
          "scattergeo": [
           {
            "marker": {
             "colorbar": {
              "outlinewidth": 0,
              "ticks": ""
             }
            },
            "type": "scattergeo"
           }
          ],
          "scattergl": [
           {
            "marker": {
             "colorbar": {
              "outlinewidth": 0,
              "ticks": ""
             }
            },
            "type": "scattergl"
           }
          ],
          "scattermapbox": [
           {
            "marker": {
             "colorbar": {
              "outlinewidth": 0,
              "ticks": ""
             }
            },
            "type": "scattermapbox"
           }
          ],
          "scatterpolar": [
           {
            "marker": {
             "colorbar": {
              "outlinewidth": 0,
              "ticks": ""
             }
            },
            "type": "scatterpolar"
           }
          ],
          "scatterpolargl": [
           {
            "marker": {
             "colorbar": {
              "outlinewidth": 0,
              "ticks": ""
             }
            },
            "type": "scatterpolargl"
           }
          ],
          "scatterternary": [
           {
            "marker": {
             "colorbar": {
              "outlinewidth": 0,
              "ticks": ""
             }
            },
            "type": "scatterternary"
           }
          ],
          "surface": [
           {
            "colorbar": {
             "outlinewidth": 0,
             "ticks": ""
            },
            "colorscale": [
             [
              0,
              "#0d0887"
             ],
             [
              0.1111111111111111,
              "#46039f"
             ],
             [
              0.2222222222222222,
              "#7201a8"
             ],
             [
              0.3333333333333333,
              "#9c179e"
             ],
             [
              0.4444444444444444,
              "#bd3786"
             ],
             [
              0.5555555555555556,
              "#d8576b"
             ],
             [
              0.6666666666666666,
              "#ed7953"
             ],
             [
              0.7777777777777778,
              "#fb9f3a"
             ],
             [
              0.8888888888888888,
              "#fdca26"
             ],
             [
              1,
              "#f0f921"
             ]
            ],
            "type": "surface"
           }
          ],
          "table": [
           {
            "cells": {
             "fill": {
              "color": "#EBF0F8"
             },
             "line": {
              "color": "white"
             }
            },
            "header": {
             "fill": {
              "color": "#C8D4E3"
             },
             "line": {
              "color": "white"
             }
            },
            "type": "table"
           }
          ]
         },
         "layout": {
          "annotationdefaults": {
           "arrowcolor": "#2a3f5f",
           "arrowhead": 0,
           "arrowwidth": 1
          },
          "autotypenumbers": "strict",
          "coloraxis": {
           "colorbar": {
            "outlinewidth": 0,
            "ticks": ""
           }
          },
          "colorscale": {
           "diverging": [
            [
             0,
             "#8e0152"
            ],
            [
             0.1,
             "#c51b7d"
            ],
            [
             0.2,
             "#de77ae"
            ],
            [
             0.3,
             "#f1b6da"
            ],
            [
             0.4,
             "#fde0ef"
            ],
            [
             0.5,
             "#f7f7f7"
            ],
            [
             0.6,
             "#e6f5d0"
            ],
            [
             0.7,
             "#b8e186"
            ],
            [
             0.8,
             "#7fbc41"
            ],
            [
             0.9,
             "#4d9221"
            ],
            [
             1,
             "#276419"
            ]
           ],
           "sequential": [
            [
             0,
             "#0d0887"
            ],
            [
             0.1111111111111111,
             "#46039f"
            ],
            [
             0.2222222222222222,
             "#7201a8"
            ],
            [
             0.3333333333333333,
             "#9c179e"
            ],
            [
             0.4444444444444444,
             "#bd3786"
            ],
            [
             0.5555555555555556,
             "#d8576b"
            ],
            [
             0.6666666666666666,
             "#ed7953"
            ],
            [
             0.7777777777777778,
             "#fb9f3a"
            ],
            [
             0.8888888888888888,
             "#fdca26"
            ],
            [
             1,
             "#f0f921"
            ]
           ],
           "sequentialminus": [
            [
             0,
             "#0d0887"
            ],
            [
             0.1111111111111111,
             "#46039f"
            ],
            [
             0.2222222222222222,
             "#7201a8"
            ],
            [
             0.3333333333333333,
             "#9c179e"
            ],
            [
             0.4444444444444444,
             "#bd3786"
            ],
            [
             0.5555555555555556,
             "#d8576b"
            ],
            [
             0.6666666666666666,
             "#ed7953"
            ],
            [
             0.7777777777777778,
             "#fb9f3a"
            ],
            [
             0.8888888888888888,
             "#fdca26"
            ],
            [
             1,
             "#f0f921"
            ]
           ]
          },
          "colorway": [
           "#636efa",
           "#EF553B",
           "#00cc96",
           "#ab63fa",
           "#FFA15A",
           "#19d3f3",
           "#FF6692",
           "#B6E880",
           "#FF97FF",
           "#FECB52"
          ],
          "font": {
           "color": "#2a3f5f"
          },
          "geo": {
           "bgcolor": "white",
           "lakecolor": "white",
           "landcolor": "#E5ECF6",
           "showlakes": true,
           "showland": true,
           "subunitcolor": "white"
          },
          "hoverlabel": {
           "align": "left"
          },
          "hovermode": "closest",
          "mapbox": {
           "style": "light"
          },
          "paper_bgcolor": "white",
          "plot_bgcolor": "#E5ECF6",
          "polar": {
           "angularaxis": {
            "gridcolor": "white",
            "linecolor": "white",
            "ticks": ""
           },
           "bgcolor": "#E5ECF6",
           "radialaxis": {
            "gridcolor": "white",
            "linecolor": "white",
            "ticks": ""
           }
          },
          "scene": {
           "xaxis": {
            "backgroundcolor": "#E5ECF6",
            "gridcolor": "white",
            "gridwidth": 2,
            "linecolor": "white",
            "showbackground": true,
            "ticks": "",
            "zerolinecolor": "white"
           },
           "yaxis": {
            "backgroundcolor": "#E5ECF6",
            "gridcolor": "white",
            "gridwidth": 2,
            "linecolor": "white",
            "showbackground": true,
            "ticks": "",
            "zerolinecolor": "white"
           },
           "zaxis": {
            "backgroundcolor": "#E5ECF6",
            "gridcolor": "white",
            "gridwidth": 2,
            "linecolor": "white",
            "showbackground": true,
            "ticks": "",
            "zerolinecolor": "white"
           }
          },
          "shapedefaults": {
           "line": {
            "color": "#2a3f5f"
           }
          },
          "ternary": {
           "aaxis": {
            "gridcolor": "white",
            "linecolor": "white",
            "ticks": ""
           },
           "baxis": {
            "gridcolor": "white",
            "linecolor": "white",
            "ticks": ""
           },
           "bgcolor": "#E5ECF6",
           "caxis": {
            "gridcolor": "white",
            "linecolor": "white",
            "ticks": ""
           }
          },
          "title": {
           "x": 0.05
          },
          "xaxis": {
           "automargin": true,
           "gridcolor": "white",
           "linecolor": "white",
           "ticks": "",
           "title": {
            "standoff": 15
           },
           "zerolinecolor": "white",
           "zerolinewidth": 2
          },
          "yaxis": {
           "automargin": true,
           "gridcolor": "white",
           "linecolor": "white",
           "ticks": "",
           "title": {
            "standoff": 15
           },
           "zerolinecolor": "white",
           "zerolinewidth": 2
          }
         }
        },
        "xaxis": {
         "anchor": "y",
         "domain": [
          0,
          1
         ],
         "title": {
          "text": "year"
         }
        },
        "yaxis": {
         "anchor": "x",
         "domain": [
          0,
          1
         ],
         "title": {
          "text": "count"
         }
        }
       }
      },
      "text/html": [
       "<div>                            <div id=\"e4e39f26-cbed-43e1-ad43-e6e8beaf791f\" class=\"plotly-graph-div\" style=\"height:525px; width:100%;\"></div>            <script type=\"text/javascript\">                require([\"plotly\"], function(Plotly) {                    window.PLOTLYENV=window.PLOTLYENV || {};                                    if (document.getElementById(\"e4e39f26-cbed-43e1-ad43-e6e8beaf791f\")) {                    Plotly.newPlot(                        \"e4e39f26-cbed-43e1-ad43-e6e8beaf791f\",                        [{\"alignmentgroup\":\"True\",\"bingroup\":\"x\",\"histfunc\":\"count\",\"hovertemplate\":\"year=%{x}<br>count=%{y}<extra></extra>\",\"legendgroup\":\"\",\"marker\":{\"color\":\"#636efa\",\"pattern\":{\"shape\":\"\"}},\"name\":\"\",\"offsetgroup\":\"\",\"orientation\":\"v\",\"showlegend\":false,\"x\":[2005,2005,2010,2011,2011,2011,2012,2012,2012,2012,2012,2012,2012,2012,2012,2012,2012,2012,2012,2012,2013,2013,2013,2013,2013,2013,2013,2013,2014,2014,2014,2014,2014,2014,2015,2015,2015,2015,2015,2015,2015,2015,2016,2016,2016,2016,2016,2016,2016,2016,2016,2016,2016,2016,2017,2017,2017,2017,2017,2017,2017,2017,2017,2017,2017,2017,2017,2017,2017,2017,2017,2018,2018,2018,2018,2018,2018,2018,2018,2018,2018,2018,2018,2018,2018,2018,2018,2018,2018,2018,2018,2018,2019,2019,2019,2019,2019,2019,2019,2019,2019,2019,2019,2019,2019,2019,2019,2019,2019,2019,2019,2019,2019,2019,2019,2019,2019,2019,2019,2019,2019,2019,2020,2020,2020,2020,2020,2020,2020,2020,2020,2020,2020,2020,2020,2020,2020,2020,2020,2020,2020,2020,2020,2020,2020,2020,2020,2020,2020,2020,2020,2020,2020,2020,2020,2020,2020,2020,2020,2020,2020,2020,2020,2020,2020,2020,2020,2020,2020,2021,2021,2021,2021,2021,2021,2021,2021,2021,2021,2021,2021,2021,2021,2021,2021,2021,2021,2021,2021,2021,2021,2021,2021,2021,2021,2021,2021,2021,2021,2021,2021,2021,2021,2021,2021,2021,2021,2021,2021,2021,2021,2021,2021,2021,2021,2021,2022,2022,2022,2022,2022,2022,2022,2022,2022,2022,2022,2022,2022,2022,2022,2022,2022,2022,2022,2022,2023],\"xaxis\":\"x\",\"y\":[2005,2005,2010,2011,2011,2011,2012,2012,2012,2012,2012,2012,2012,2012,2012,2012,2012,2012,2012,2012,2013,2013,2013,2013,2013,2013,2013,2013,2014,2014,2014,2014,2014,2014,2015,2015,2015,2015,2015,2015,2015,2015,2016,2016,2016,2016,2016,2016,2016,2016,2016,2016,2016,2016,2017,2017,2017,2017,2017,2017,2017,2017,2017,2017,2017,2017,2017,2017,2017,2017,2017,2018,2018,2018,2018,2018,2018,2018,2018,2018,2018,2018,2018,2018,2018,2018,2018,2018,2018,2018,2018,2018,2019,2019,2019,2019,2019,2019,2019,2019,2019,2019,2019,2019,2019,2019,2019,2019,2019,2019,2019,2019,2019,2019,2019,2019,2019,2019,2019,2019,2019,2019,2020,2020,2020,2020,2020,2020,2020,2020,2020,2020,2020,2020,2020,2020,2020,2020,2020,2020,2020,2020,2020,2020,2020,2020,2020,2020,2020,2020,2020,2020,2020,2020,2020,2020,2020,2020,2020,2020,2020,2020,2020,2020,2020,2020,2020,2020,2020,2021,2021,2021,2021,2021,2021,2021,2021,2021,2021,2021,2021,2021,2021,2021,2021,2021,2021,2021,2021,2021,2021,2021,2021,2021,2021,2021,2021,2021,2021,2021,2021,2021,2021,2021,2021,2021,2021,2021,2021,2021,2021,2021,2021,2021,2021,2021,2022,2022,2022,2022,2022,2022,2022,2022,2022,2022,2022,2022,2022,2022,2022,2022,2022,2022,2022,2022,2023],\"yaxis\":\"y\",\"type\":\"histogram\"}],                        {\"template\":{\"data\":{\"histogram2dcontour\":[{\"type\":\"histogram2dcontour\",\"colorbar\":{\"outlinewidth\":0,\"ticks\":\"\"},\"colorscale\":[[0.0,\"#0d0887\"],[0.1111111111111111,\"#46039f\"],[0.2222222222222222,\"#7201a8\"],[0.3333333333333333,\"#9c179e\"],[0.4444444444444444,\"#bd3786\"],[0.5555555555555556,\"#d8576b\"],[0.6666666666666666,\"#ed7953\"],[0.7777777777777778,\"#fb9f3a\"],[0.8888888888888888,\"#fdca26\"],[1.0,\"#f0f921\"]]}],\"choropleth\":[{\"type\":\"choropleth\",\"colorbar\":{\"outlinewidth\":0,\"ticks\":\"\"}}],\"histogram2d\":[{\"type\":\"histogram2d\",\"colorbar\":{\"outlinewidth\":0,\"ticks\":\"\"},\"colorscale\":[[0.0,\"#0d0887\"],[0.1111111111111111,\"#46039f\"],[0.2222222222222222,\"#7201a8\"],[0.3333333333333333,\"#9c179e\"],[0.4444444444444444,\"#bd3786\"],[0.5555555555555556,\"#d8576b\"],[0.6666666666666666,\"#ed7953\"],[0.7777777777777778,\"#fb9f3a\"],[0.8888888888888888,\"#fdca26\"],[1.0,\"#f0f921\"]]}],\"heatmap\":[{\"type\":\"heatmap\",\"colorbar\":{\"outlinewidth\":0,\"ticks\":\"\"},\"colorscale\":[[0.0,\"#0d0887\"],[0.1111111111111111,\"#46039f\"],[0.2222222222222222,\"#7201a8\"],[0.3333333333333333,\"#9c179e\"],[0.4444444444444444,\"#bd3786\"],[0.5555555555555556,\"#d8576b\"],[0.6666666666666666,\"#ed7953\"],[0.7777777777777778,\"#fb9f3a\"],[0.8888888888888888,\"#fdca26\"],[1.0,\"#f0f921\"]]}],\"heatmapgl\":[{\"type\":\"heatmapgl\",\"colorbar\":{\"outlinewidth\":0,\"ticks\":\"\"},\"colorscale\":[[0.0,\"#0d0887\"],[0.1111111111111111,\"#46039f\"],[0.2222222222222222,\"#7201a8\"],[0.3333333333333333,\"#9c179e\"],[0.4444444444444444,\"#bd3786\"],[0.5555555555555556,\"#d8576b\"],[0.6666666666666666,\"#ed7953\"],[0.7777777777777778,\"#fb9f3a\"],[0.8888888888888888,\"#fdca26\"],[1.0,\"#f0f921\"]]}],\"contourcarpet\":[{\"type\":\"contourcarpet\",\"colorbar\":{\"outlinewidth\":0,\"ticks\":\"\"}}],\"contour\":[{\"type\":\"contour\",\"colorbar\":{\"outlinewidth\":0,\"ticks\":\"\"},\"colorscale\":[[0.0,\"#0d0887\"],[0.1111111111111111,\"#46039f\"],[0.2222222222222222,\"#7201a8\"],[0.3333333333333333,\"#9c179e\"],[0.4444444444444444,\"#bd3786\"],[0.5555555555555556,\"#d8576b\"],[0.6666666666666666,\"#ed7953\"],[0.7777777777777778,\"#fb9f3a\"],[0.8888888888888888,\"#fdca26\"],[1.0,\"#f0f921\"]]}],\"surface\":[{\"type\":\"surface\",\"colorbar\":{\"outlinewidth\":0,\"ticks\":\"\"},\"colorscale\":[[0.0,\"#0d0887\"],[0.1111111111111111,\"#46039f\"],[0.2222222222222222,\"#7201a8\"],[0.3333333333333333,\"#9c179e\"],[0.4444444444444444,\"#bd3786\"],[0.5555555555555556,\"#d8576b\"],[0.6666666666666666,\"#ed7953\"],[0.7777777777777778,\"#fb9f3a\"],[0.8888888888888888,\"#fdca26\"],[1.0,\"#f0f921\"]]}],\"mesh3d\":[{\"type\":\"mesh3d\",\"colorbar\":{\"outlinewidth\":0,\"ticks\":\"\"}}],\"scatter\":[{\"fillpattern\":{\"fillmode\":\"overlay\",\"size\":10,\"solidity\":0.2},\"type\":\"scatter\"}],\"parcoords\":[{\"type\":\"parcoords\",\"line\":{\"colorbar\":{\"outlinewidth\":0,\"ticks\":\"\"}}}],\"scatterpolargl\":[{\"type\":\"scatterpolargl\",\"marker\":{\"colorbar\":{\"outlinewidth\":0,\"ticks\":\"\"}}}],\"bar\":[{\"error_x\":{\"color\":\"#2a3f5f\"},\"error_y\":{\"color\":\"#2a3f5f\"},\"marker\":{\"line\":{\"color\":\"#E5ECF6\",\"width\":0.5},\"pattern\":{\"fillmode\":\"overlay\",\"size\":10,\"solidity\":0.2}},\"type\":\"bar\"}],\"scattergeo\":[{\"type\":\"scattergeo\",\"marker\":{\"colorbar\":{\"outlinewidth\":0,\"ticks\":\"\"}}}],\"scatterpolar\":[{\"type\":\"scatterpolar\",\"marker\":{\"colorbar\":{\"outlinewidth\":0,\"ticks\":\"\"}}}],\"histogram\":[{\"marker\":{\"pattern\":{\"fillmode\":\"overlay\",\"size\":10,\"solidity\":0.2}},\"type\":\"histogram\"}],\"scattergl\":[{\"type\":\"scattergl\",\"marker\":{\"colorbar\":{\"outlinewidth\":0,\"ticks\":\"\"}}}],\"scatter3d\":[{\"type\":\"scatter3d\",\"line\":{\"colorbar\":{\"outlinewidth\":0,\"ticks\":\"\"}},\"marker\":{\"colorbar\":{\"outlinewidth\":0,\"ticks\":\"\"}}}],\"scattermapbox\":[{\"type\":\"scattermapbox\",\"marker\":{\"colorbar\":{\"outlinewidth\":0,\"ticks\":\"\"}}}],\"scatterternary\":[{\"type\":\"scatterternary\",\"marker\":{\"colorbar\":{\"outlinewidth\":0,\"ticks\":\"\"}}}],\"scattercarpet\":[{\"type\":\"scattercarpet\",\"marker\":{\"colorbar\":{\"outlinewidth\":0,\"ticks\":\"\"}}}],\"carpet\":[{\"aaxis\":{\"endlinecolor\":\"#2a3f5f\",\"gridcolor\":\"white\",\"linecolor\":\"white\",\"minorgridcolor\":\"white\",\"startlinecolor\":\"#2a3f5f\"},\"baxis\":{\"endlinecolor\":\"#2a3f5f\",\"gridcolor\":\"white\",\"linecolor\":\"white\",\"minorgridcolor\":\"white\",\"startlinecolor\":\"#2a3f5f\"},\"type\":\"carpet\"}],\"table\":[{\"cells\":{\"fill\":{\"color\":\"#EBF0F8\"},\"line\":{\"color\":\"white\"}},\"header\":{\"fill\":{\"color\":\"#C8D4E3\"},\"line\":{\"color\":\"white\"}},\"type\":\"table\"}],\"barpolar\":[{\"marker\":{\"line\":{\"color\":\"#E5ECF6\",\"width\":0.5},\"pattern\":{\"fillmode\":\"overlay\",\"size\":10,\"solidity\":0.2}},\"type\":\"barpolar\"}],\"pie\":[{\"automargin\":true,\"type\":\"pie\"}]},\"layout\":{\"autotypenumbers\":\"strict\",\"colorway\":[\"#636efa\",\"#EF553B\",\"#00cc96\",\"#ab63fa\",\"#FFA15A\",\"#19d3f3\",\"#FF6692\",\"#B6E880\",\"#FF97FF\",\"#FECB52\"],\"font\":{\"color\":\"#2a3f5f\"},\"hovermode\":\"closest\",\"hoverlabel\":{\"align\":\"left\"},\"paper_bgcolor\":\"white\",\"plot_bgcolor\":\"#E5ECF6\",\"polar\":{\"bgcolor\":\"#E5ECF6\",\"angularaxis\":{\"gridcolor\":\"white\",\"linecolor\":\"white\",\"ticks\":\"\"},\"radialaxis\":{\"gridcolor\":\"white\",\"linecolor\":\"white\",\"ticks\":\"\"}},\"ternary\":{\"bgcolor\":\"#E5ECF6\",\"aaxis\":{\"gridcolor\":\"white\",\"linecolor\":\"white\",\"ticks\":\"\"},\"baxis\":{\"gridcolor\":\"white\",\"linecolor\":\"white\",\"ticks\":\"\"},\"caxis\":{\"gridcolor\":\"white\",\"linecolor\":\"white\",\"ticks\":\"\"}},\"coloraxis\":{\"colorbar\":{\"outlinewidth\":0,\"ticks\":\"\"}},\"colorscale\":{\"sequential\":[[0.0,\"#0d0887\"],[0.1111111111111111,\"#46039f\"],[0.2222222222222222,\"#7201a8\"],[0.3333333333333333,\"#9c179e\"],[0.4444444444444444,\"#bd3786\"],[0.5555555555555556,\"#d8576b\"],[0.6666666666666666,\"#ed7953\"],[0.7777777777777778,\"#fb9f3a\"],[0.8888888888888888,\"#fdca26\"],[1.0,\"#f0f921\"]],\"sequentialminus\":[[0.0,\"#0d0887\"],[0.1111111111111111,\"#46039f\"],[0.2222222222222222,\"#7201a8\"],[0.3333333333333333,\"#9c179e\"],[0.4444444444444444,\"#bd3786\"],[0.5555555555555556,\"#d8576b\"],[0.6666666666666666,\"#ed7953\"],[0.7777777777777778,\"#fb9f3a\"],[0.8888888888888888,\"#fdca26\"],[1.0,\"#f0f921\"]],\"diverging\":[[0,\"#8e0152\"],[0.1,\"#c51b7d\"],[0.2,\"#de77ae\"],[0.3,\"#f1b6da\"],[0.4,\"#fde0ef\"],[0.5,\"#f7f7f7\"],[0.6,\"#e6f5d0\"],[0.7,\"#b8e186\"],[0.8,\"#7fbc41\"],[0.9,\"#4d9221\"],[1,\"#276419\"]]},\"xaxis\":{\"gridcolor\":\"white\",\"linecolor\":\"white\",\"ticks\":\"\",\"title\":{\"standoff\":15},\"zerolinecolor\":\"white\",\"automargin\":true,\"zerolinewidth\":2},\"yaxis\":{\"gridcolor\":\"white\",\"linecolor\":\"white\",\"ticks\":\"\",\"title\":{\"standoff\":15},\"zerolinecolor\":\"white\",\"automargin\":true,\"zerolinewidth\":2},\"scene\":{\"xaxis\":{\"backgroundcolor\":\"#E5ECF6\",\"gridcolor\":\"white\",\"linecolor\":\"white\",\"showbackground\":true,\"ticks\":\"\",\"zerolinecolor\":\"white\",\"gridwidth\":2},\"yaxis\":{\"backgroundcolor\":\"#E5ECF6\",\"gridcolor\":\"white\",\"linecolor\":\"white\",\"showbackground\":true,\"ticks\":\"\",\"zerolinecolor\":\"white\",\"gridwidth\":2},\"zaxis\":{\"backgroundcolor\":\"#E5ECF6\",\"gridcolor\":\"white\",\"linecolor\":\"white\",\"showbackground\":true,\"ticks\":\"\",\"zerolinecolor\":\"white\",\"gridwidth\":2}},\"shapedefaults\":{\"line\":{\"color\":\"#2a3f5f\"}},\"annotationdefaults\":{\"arrowcolor\":\"#2a3f5f\",\"arrowhead\":0,\"arrowwidth\":1},\"geo\":{\"bgcolor\":\"white\",\"landcolor\":\"#E5ECF6\",\"subunitcolor\":\"white\",\"showland\":true,\"showlakes\":true,\"lakecolor\":\"white\"},\"title\":{\"x\":0.05},\"mapbox\":{\"style\":\"light\"}}},\"xaxis\":{\"anchor\":\"y\",\"domain\":[0.0,1.0],\"title\":{\"text\":\"year\"}},\"yaxis\":{\"anchor\":\"x\",\"domain\":[0.0,1.0],\"title\":{\"text\":\"count\"}},\"legend\":{\"tracegroupgap\":0},\"margin\":{\"t\":60},\"barmode\":\"relative\"},                        {\"responsive\": true}                    ).then(function(){\n",
       "                            \n",
       "var gd = document.getElementById('e4e39f26-cbed-43e1-ad43-e6e8beaf791f');\n",
       "var x = new MutationObserver(function (mutations, observer) {{\n",
       "        var display = window.getComputedStyle(gd).display;\n",
       "        if (!display || display === 'none') {{\n",
       "            console.log([gd, 'removed!']);\n",
       "            Plotly.purge(gd);\n",
       "            observer.disconnect();\n",
       "        }}\n",
       "}});\n",
       "\n",
       "// Listen for the removal of the full notebook cells\n",
       "var notebookContainer = gd.closest('#notebook-container');\n",
       "if (notebookContainer) {{\n",
       "    x.observe(notebookContainer, {childList: true});\n",
       "}}\n",
       "\n",
       "// Listen for the clearing of the current output cell\n",
       "var outputEl = gd.closest('.output');\n",
       "if (outputEl) {{\n",
       "    x.observe(outputEl, {childList: true});\n",
       "}}\n",
       "\n",
       "                        })                };                });            </script>        </div>"
      ]
     },
     "metadata": {},
     "output_type": "display_data"
    }
   ],
   "source": [
    "# plot the distribution of migrations by-year\n",
    "plt = px.histogram(migrations, x='year', y='year', histfunc='count')\n",
    "plt.show()"
   ]
  },
  {
   "cell_type": "code",
   "execution_count": 33,
   "metadata": {},
   "outputs": [
    {
     "data": {
      "application/vnd.plotly.v1+json": {
       "config": {
        "plotlyServerURL": "https://plot.ly"
       },
       "data": [
        {
         "alignmentgroup": "True",
         "hovertemplate": "to=%{x}<br>from=%{y}<extra></extra>",
         "legendgroup": "",
         "marker": {
          "color": "#636efa",
          "pattern": {
           "shape": ""
          }
         },
         "name": "",
         "offsetgroup": "",
         "orientation": "v",
         "showlegend": false,
         "textposition": "auto",
         "type": "bar",
         "x": [
          "Python",
          "Javascript",
          "DotNET",
          "Scala",
          "PostgreSQL",
          "Python",
          "NodeJS",
          "Golang",
          "Golang",
          "Golang",
          "Golang",
          "Golang",
          "Golang",
          "Golang",
          "Riak",
          "PostgreSQL",
          "MySQL",
          "PostgreSQL",
          "Ruby",
          "CoffeeScript",
          "NodeJS",
          "Golang",
          "Golang",
          "Golang",
          "Golang",
          "Golang",
          "Hack",
          "OVH",
          "Polymer",
          "Dart",
          "Dart",
          "C++",
          "Golang",
          "CitusDB",
          "Elixir",
          "Golang/PostgreSQL",
          "PostgreSQL",
          "PostgreSQL",
          "Golang",
          "Elixir",
          "Golang",
          "Couchbase",
          "Golang",
          "Golang",
          "MySQL",
          "Golang/Java",
          "Golang",
          "Golang",
          "Angular/Dart",
          "Hack",
          "Couchbase",
          "Couchbase",
          "SingleStore",
          "self-managed/own-datacenter",
          "Elixir",
          "Golang",
          "Golang",
          "Cassandra",
          "Cassandra",
          "PostgreSQL",
          "Golang",
          "Golang",
          "CockroachDB",
          "Golang",
          "NodeJS+PostgreSQL",
          "Flutter",
          "TiDB",
          "TypeScript",
          "SingleStore",
          "SingleStore",
          "SingleStore",
          "Dart",
          "Golang",
          "Golang/MongoDB/ElasticSearch/CloudSQL",
          "Golang",
          "PostgreSQL",
          "Clickhouse",
          "vanilla",
          "TiDB",
          "TiDB",
          "TiDB",
          "TiDB",
          "Vitess",
          "DotNetCore",
          "Clickhouse",
          "SingleStore",
          "SingleStore",
          "SingleStore",
          "SingleStore",
          "SingleStore",
          "Golang",
          "Golang",
          "Golang",
          "Rust",
          "AuroraPostgres/DynamoDB",
          "CockroachDB",
          "Golang",
          "ScyllaDB",
          "TiDB",
          "TiDB",
          "TiDB",
          "TiDB",
          "TiDB",
          "Nomad",
          "YugabyteDB",
          "YugabyteDB",
          "PostgreSQL/ElasticSearch/ScyllaDB/Elixir",
          "Loki",
          "Clickhouse",
          "Clickhouse",
          "Caddy",
          "DockerSwarm",
          "SingleStore",
          "SingleStore",
          "SingleStore",
          "SingleStore",
          "SingleStore",
          "SingleStore",
          "ScyllaDB",
          "Golang",
          "Golang",
          "ReactJS",
          "Rust",
          "MongoDB",
          "PostgreSQL",
          "TimescaleDB",
          "Envoy",
          "Rust",
          "Golang",
          "Golang",
          "Golang",
          "ScyllaDB",
          "Svelte",
          "TiDB",
          "TiDB",
          "TiDB",
          "TiDB",
          "TiDB",
          "TiDB",
          "TiDB",
          "TiDB",
          "TiDB",
          "TiDB",
          "TiDB",
          "TiDB",
          "TiDB",
          "YugabyteDB",
          "YugabyteDB",
          "YugabyteDB",
          "YugabyteDB",
          "YugabyteDB",
          "YugabyteDB",
          "YugabyteDB",
          "YugabyteDB/Hasura",
          "ScyllaDB",
          "Linux/Nomad",
          "Golang",
          "Golang",
          "Clickhouse",
          "Aurora",
          "SingleStore",
          "SingleStore",
          "SingleStore",
          "VictoriaMetrics",
          "Clickhouse",
          "CockroachDB",
          "PostgreSQL",
          "GraphQL",
          "Svelte",
          "Golang",
          "Golang",
          "VictoriaMetrics",
          "Golang",
          "PostgreSQL",
          "Envoy",
          "Golang",
          "ScyllaDB",
          "Vite",
          "Vite",
          "SvelteKit",
          "TiDB",
          "TiDB",
          "TiDB",
          "TiDB",
          "TiDB",
          "TiDB",
          "Clickhouse",
          "Kotlin",
          "Golang",
          "ReactNative",
          "Nomad/Consul",
          "Nomad/Firecracker/Kuma",
          "Nomad/Consul",
          "ScyllaDB",
          "ScyllaDB",
          "Tarantool",
          "Nomad",
          "Clickhouse",
          "ClickhouseKeeper/NuRaft",
          "Rust",
          "ScyllaDB",
          "Typescript",
          "TiDB",
          "TiDB",
          "Svelte",
          "PostgreSQL",
          "SingleStore",
          "VictoriaMetrics",
          "VictoriaMetrics",
          "Golang",
          "Kotlin",
          "PostgreSQL",
          "Redis",
          "Rockset",
          "Clickhouse",
          "NodeJS",
          "SingleStore",
          "Hetzner",
          "Clickhouse",
          "Preact",
          "RubyOnRails",
          "SingleStore",
          "SingleStore",
          "RedPanda",
          "Go",
          "ScyllaDB",
          "ScyllaDB",
          "Aerospike",
          "PostgreSQL+Kubernetes",
          "InHouse",
          "TypeScript+Prisma+tRPC",
          "Supabase",
          "htmx",
          "RockyLinux",
          "SingleStore",
          "Nhost",
          "Clickhouse"
         ],
         "xaxis": "x",
         "y": [
          "CommonLISP",
          "C/C++",
          "C++",
          "Ruby",
          "MongoDB",
          "Erlang",
          "Ruby",
          "?",
          "Perl",
          "C++",
          "Python/C",
          "Ruby",
          ".NET",
          "Ruby",
          "MongoDB",
          "MongoDB",
          "MongoDB",
          "MongoDB",
          "NodeJS",
          "JavaScript",
          "Java",
          "NodeJS",
          "Ruby",
          "PHP",
          "Ruby",
          "Python",
          "PHP",
          "AWS",
          "AngularDart",
          "ActionScript",
          "ActionScript/Flex",
          "Erlang",
          "Ruby/NodeJS",
          "PostgreSQL",
          "Java",
          "PHP/MySQL",
          "MySQL/MongoDB",
          "MongoDB",
          "Scala",
          "Ruby",
          "Ruby",
          "Unknown",
          "Scala",
          "Perl",
          "PostgreSQL",
          "NodeJS",
          "Python",
          "NodeJS",
          "GWT",
          "PHP",
          "Oracle",
          "Oracle",
          "Druid/MongoDB/Redis/Cassandra/Redshift",
          "AWS",
          "Ruby",
          "JRuby",
          "Scala",
          "MongoDB",
          "Riak/Solr",
          "MySQL",
          "PHP",
          "Python",
          "MySQL",
          "PHP",
          "Golang+MongoDB",
          "ReactNative",
          "MySQL",
          "CoffeeScript",
          "MySQL/Hadoop/Hive/Kafka",
          "MSSQLServer",
          "RedShift",
          "Java/Kotlin/ObjC/Swift",
          "Perl/Python",
          "Ruby/MySQL",
          "Python",
          "MongoDB",
          "CitusDB",
          "jQuery",
          "MySQL",
          "MySQL",
          "Hadoop/MSSQLServer",
          "MySQL",
          "MySQL",
          "DotNET",
          "ElsticSearch+LogStash+Kibana/BigQuery",
          "RedShift",
          "Hadoop/MariaDB",
          "MySQL",
          "ElasticSearch",
          "Hadoop",
          "Ruby",
          "PHP",
          "Clojure",
          "Ruby",
          "Oracle",
          "Oracle",
          "Python",
          "Cassandra",
          "MySQL",
          "MySQL",
          "MySQL",
          "MySQL",
          "MSSQLServer",
          "Kubernetes",
          "DynamoDB/PostgreSQL-RDS",
          "MongoDB",
          "MySQL/MongoDB/NodeJS",
          "ElasticSearch",
          "ElsticSearch+LogStash+Kibana",
          "PostgreSQL+Redis",
          "Nginx",
          "Kubernetes",
          "MySQL",
          "Druid",
          "Hadoop",
          "Redis/Cassandra",
          "CouchBase",
          "ElasticSearch",
          "Cassandra",
          "Ruby",
          "Python",
          "EmberJS",
          "Golang",
          "DB2",
          "Oracle",
          "InfluxDB",
          "Nginx",
          "Python",
          "Python",
          "NodeJS",
          "C++",
          "Cassandra",
          "React",
          "MongoDB",
          "MySQL",
          "MySQL",
          "Oracle",
          "MySQL",
          "OracleExadata",
          "MySQL",
          "?",
          "MySQL",
          "MySQL",
          "MySQL",
          "MySQL",
          "MySQL",
          "PostgreSQL",
          "PostgreSQL",
          "MSSQLServer/Cassandra",
          "MSSQLServer",
          "PostgreSQL/MSSQLServer",
          "Cassandra/Neo4j/MSSQLServer/CockroachDB",
          "Cassandra?",
          "DynamoDB",
          "CockroachDB",
          "Windows",
          "Elixir",
          "PHP",
          "ApacheDruid",
          "PostgreSQL",
          "MariaDB",
          "ElasticSearch",
          "MySQL",
          "InfluxDB",
          "MySQL",
          "Cassandra",
          "MongoDB",
          "gRPC",
          "React",
          "Python",
          "PHP",
          "Prometheus",
          "C#",
          "MongoDB",
          "HAProxy",
          "Ruby",
          "Cassandra",
          "RollUp/SnowPack",
          "WebPack",
          "React/Gatsby",
          "MySQL",
          "MySQL",
          "MSSQLServer",
          "MySQL",
          "MySQL",
          "MySQL",
          "RedShift",
          "Elixir",
          "Python",
          "Native",
          "Kubernetes",
          "Kubernetes",
          "Kubernetes",
          "Cassandra",
          "Cassandra",
          "Redis",
          "Kubernetes",
          "ElsticSearch+LogStash+Kibana",
          "ZooKeeper",
          "Pony",
          "Cassandra",
          "Javascript",
          "MySQL",
          "MySQL",
          "React",
          "MongoDB",
          "MySQL/Redis/DynamoDB",
          "Thanos",
          "Prometheus",
          "NodeJS",
          "Python",
          "MongoDB",
          "MongoDB+Meteor",
          "ElasticSearch",
          "Druid",
          "Ruby",
          "PostgreSQL",
          "AWS",
          "nindex",
          "React",
          "React",
          "PostgreSQL",
          "MongoDB",
          "AmazonKinesis/Kafka",
          "NodeJS",
          "PostgreSQL/Cassandra",
          "Cassandra",
          "HBase",
          "PostgreSQL-RDS",
          "AWS",
          "Golang+GraphQL",
          "Firebase",
          "React",
          "RedHat",
          "MariaDB",
          "Firebase",
          "BigQuery"
         ],
         "yaxis": "y"
        }
       ],
       "layout": {
        "barmode": "relative",
        "legend": {
         "tracegroupgap": 0
        },
        "margin": {
         "t": 60
        },
        "template": {
         "data": {
          "bar": [
           {
            "error_x": {
             "color": "#2a3f5f"
            },
            "error_y": {
             "color": "#2a3f5f"
            },
            "marker": {
             "line": {
              "color": "#E5ECF6",
              "width": 0.5
             },
             "pattern": {
              "fillmode": "overlay",
              "size": 10,
              "solidity": 0.2
             }
            },
            "type": "bar"
           }
          ],
          "barpolar": [
           {
            "marker": {
             "line": {
              "color": "#E5ECF6",
              "width": 0.5
             },
             "pattern": {
              "fillmode": "overlay",
              "size": 10,
              "solidity": 0.2
             }
            },
            "type": "barpolar"
           }
          ],
          "carpet": [
           {
            "aaxis": {
             "endlinecolor": "#2a3f5f",
             "gridcolor": "white",
             "linecolor": "white",
             "minorgridcolor": "white",
             "startlinecolor": "#2a3f5f"
            },
            "baxis": {
             "endlinecolor": "#2a3f5f",
             "gridcolor": "white",
             "linecolor": "white",
             "minorgridcolor": "white",
             "startlinecolor": "#2a3f5f"
            },
            "type": "carpet"
           }
          ],
          "choropleth": [
           {
            "colorbar": {
             "outlinewidth": 0,
             "ticks": ""
            },
            "type": "choropleth"
           }
          ],
          "contour": [
           {
            "colorbar": {
             "outlinewidth": 0,
             "ticks": ""
            },
            "colorscale": [
             [
              0,
              "#0d0887"
             ],
             [
              0.1111111111111111,
              "#46039f"
             ],
             [
              0.2222222222222222,
              "#7201a8"
             ],
             [
              0.3333333333333333,
              "#9c179e"
             ],
             [
              0.4444444444444444,
              "#bd3786"
             ],
             [
              0.5555555555555556,
              "#d8576b"
             ],
             [
              0.6666666666666666,
              "#ed7953"
             ],
             [
              0.7777777777777778,
              "#fb9f3a"
             ],
             [
              0.8888888888888888,
              "#fdca26"
             ],
             [
              1,
              "#f0f921"
             ]
            ],
            "type": "contour"
           }
          ],
          "contourcarpet": [
           {
            "colorbar": {
             "outlinewidth": 0,
             "ticks": ""
            },
            "type": "contourcarpet"
           }
          ],
          "heatmap": [
           {
            "colorbar": {
             "outlinewidth": 0,
             "ticks": ""
            },
            "colorscale": [
             [
              0,
              "#0d0887"
             ],
             [
              0.1111111111111111,
              "#46039f"
             ],
             [
              0.2222222222222222,
              "#7201a8"
             ],
             [
              0.3333333333333333,
              "#9c179e"
             ],
             [
              0.4444444444444444,
              "#bd3786"
             ],
             [
              0.5555555555555556,
              "#d8576b"
             ],
             [
              0.6666666666666666,
              "#ed7953"
             ],
             [
              0.7777777777777778,
              "#fb9f3a"
             ],
             [
              0.8888888888888888,
              "#fdca26"
             ],
             [
              1,
              "#f0f921"
             ]
            ],
            "type": "heatmap"
           }
          ],
          "heatmapgl": [
           {
            "colorbar": {
             "outlinewidth": 0,
             "ticks": ""
            },
            "colorscale": [
             [
              0,
              "#0d0887"
             ],
             [
              0.1111111111111111,
              "#46039f"
             ],
             [
              0.2222222222222222,
              "#7201a8"
             ],
             [
              0.3333333333333333,
              "#9c179e"
             ],
             [
              0.4444444444444444,
              "#bd3786"
             ],
             [
              0.5555555555555556,
              "#d8576b"
             ],
             [
              0.6666666666666666,
              "#ed7953"
             ],
             [
              0.7777777777777778,
              "#fb9f3a"
             ],
             [
              0.8888888888888888,
              "#fdca26"
             ],
             [
              1,
              "#f0f921"
             ]
            ],
            "type": "heatmapgl"
           }
          ],
          "histogram": [
           {
            "marker": {
             "pattern": {
              "fillmode": "overlay",
              "size": 10,
              "solidity": 0.2
             }
            },
            "type": "histogram"
           }
          ],
          "histogram2d": [
           {
            "colorbar": {
             "outlinewidth": 0,
             "ticks": ""
            },
            "colorscale": [
             [
              0,
              "#0d0887"
             ],
             [
              0.1111111111111111,
              "#46039f"
             ],
             [
              0.2222222222222222,
              "#7201a8"
             ],
             [
              0.3333333333333333,
              "#9c179e"
             ],
             [
              0.4444444444444444,
              "#bd3786"
             ],
             [
              0.5555555555555556,
              "#d8576b"
             ],
             [
              0.6666666666666666,
              "#ed7953"
             ],
             [
              0.7777777777777778,
              "#fb9f3a"
             ],
             [
              0.8888888888888888,
              "#fdca26"
             ],
             [
              1,
              "#f0f921"
             ]
            ],
            "type": "histogram2d"
           }
          ],
          "histogram2dcontour": [
           {
            "colorbar": {
             "outlinewidth": 0,
             "ticks": ""
            },
            "colorscale": [
             [
              0,
              "#0d0887"
             ],
             [
              0.1111111111111111,
              "#46039f"
             ],
             [
              0.2222222222222222,
              "#7201a8"
             ],
             [
              0.3333333333333333,
              "#9c179e"
             ],
             [
              0.4444444444444444,
              "#bd3786"
             ],
             [
              0.5555555555555556,
              "#d8576b"
             ],
             [
              0.6666666666666666,
              "#ed7953"
             ],
             [
              0.7777777777777778,
              "#fb9f3a"
             ],
             [
              0.8888888888888888,
              "#fdca26"
             ],
             [
              1,
              "#f0f921"
             ]
            ],
            "type": "histogram2dcontour"
           }
          ],
          "mesh3d": [
           {
            "colorbar": {
             "outlinewidth": 0,
             "ticks": ""
            },
            "type": "mesh3d"
           }
          ],
          "parcoords": [
           {
            "line": {
             "colorbar": {
              "outlinewidth": 0,
              "ticks": ""
             }
            },
            "type": "parcoords"
           }
          ],
          "pie": [
           {
            "automargin": true,
            "type": "pie"
           }
          ],
          "scatter": [
           {
            "fillpattern": {
             "fillmode": "overlay",
             "size": 10,
             "solidity": 0.2
            },
            "type": "scatter"
           }
          ],
          "scatter3d": [
           {
            "line": {
             "colorbar": {
              "outlinewidth": 0,
              "ticks": ""
             }
            },
            "marker": {
             "colorbar": {
              "outlinewidth": 0,
              "ticks": ""
             }
            },
            "type": "scatter3d"
           }
          ],
          "scattercarpet": [
           {
            "marker": {
             "colorbar": {
              "outlinewidth": 0,
              "ticks": ""
             }
            },
            "type": "scattercarpet"
           }
          ],
          "scattergeo": [
           {
            "marker": {
             "colorbar": {
              "outlinewidth": 0,
              "ticks": ""
             }
            },
            "type": "scattergeo"
           }
          ],
          "scattergl": [
           {
            "marker": {
             "colorbar": {
              "outlinewidth": 0,
              "ticks": ""
             }
            },
            "type": "scattergl"
           }
          ],
          "scattermapbox": [
           {
            "marker": {
             "colorbar": {
              "outlinewidth": 0,
              "ticks": ""
             }
            },
            "type": "scattermapbox"
           }
          ],
          "scatterpolar": [
           {
            "marker": {
             "colorbar": {
              "outlinewidth": 0,
              "ticks": ""
             }
            },
            "type": "scatterpolar"
           }
          ],
          "scatterpolargl": [
           {
            "marker": {
             "colorbar": {
              "outlinewidth": 0,
              "ticks": ""
             }
            },
            "type": "scatterpolargl"
           }
          ],
          "scatterternary": [
           {
            "marker": {
             "colorbar": {
              "outlinewidth": 0,
              "ticks": ""
             }
            },
            "type": "scatterternary"
           }
          ],
          "surface": [
           {
            "colorbar": {
             "outlinewidth": 0,
             "ticks": ""
            },
            "colorscale": [
             [
              0,
              "#0d0887"
             ],
             [
              0.1111111111111111,
              "#46039f"
             ],
             [
              0.2222222222222222,
              "#7201a8"
             ],
             [
              0.3333333333333333,
              "#9c179e"
             ],
             [
              0.4444444444444444,
              "#bd3786"
             ],
             [
              0.5555555555555556,
              "#d8576b"
             ],
             [
              0.6666666666666666,
              "#ed7953"
             ],
             [
              0.7777777777777778,
              "#fb9f3a"
             ],
             [
              0.8888888888888888,
              "#fdca26"
             ],
             [
              1,
              "#f0f921"
             ]
            ],
            "type": "surface"
           }
          ],
          "table": [
           {
            "cells": {
             "fill": {
              "color": "#EBF0F8"
             },
             "line": {
              "color": "white"
             }
            },
            "header": {
             "fill": {
              "color": "#C8D4E3"
             },
             "line": {
              "color": "white"
             }
            },
            "type": "table"
           }
          ]
         },
         "layout": {
          "annotationdefaults": {
           "arrowcolor": "#2a3f5f",
           "arrowhead": 0,
           "arrowwidth": 1
          },
          "autotypenumbers": "strict",
          "coloraxis": {
           "colorbar": {
            "outlinewidth": 0,
            "ticks": ""
           }
          },
          "colorscale": {
           "diverging": [
            [
             0,
             "#8e0152"
            ],
            [
             0.1,
             "#c51b7d"
            ],
            [
             0.2,
             "#de77ae"
            ],
            [
             0.3,
             "#f1b6da"
            ],
            [
             0.4,
             "#fde0ef"
            ],
            [
             0.5,
             "#f7f7f7"
            ],
            [
             0.6,
             "#e6f5d0"
            ],
            [
             0.7,
             "#b8e186"
            ],
            [
             0.8,
             "#7fbc41"
            ],
            [
             0.9,
             "#4d9221"
            ],
            [
             1,
             "#276419"
            ]
           ],
           "sequential": [
            [
             0,
             "#0d0887"
            ],
            [
             0.1111111111111111,
             "#46039f"
            ],
            [
             0.2222222222222222,
             "#7201a8"
            ],
            [
             0.3333333333333333,
             "#9c179e"
            ],
            [
             0.4444444444444444,
             "#bd3786"
            ],
            [
             0.5555555555555556,
             "#d8576b"
            ],
            [
             0.6666666666666666,
             "#ed7953"
            ],
            [
             0.7777777777777778,
             "#fb9f3a"
            ],
            [
             0.8888888888888888,
             "#fdca26"
            ],
            [
             1,
             "#f0f921"
            ]
           ],
           "sequentialminus": [
            [
             0,
             "#0d0887"
            ],
            [
             0.1111111111111111,
             "#46039f"
            ],
            [
             0.2222222222222222,
             "#7201a8"
            ],
            [
             0.3333333333333333,
             "#9c179e"
            ],
            [
             0.4444444444444444,
             "#bd3786"
            ],
            [
             0.5555555555555556,
             "#d8576b"
            ],
            [
             0.6666666666666666,
             "#ed7953"
            ],
            [
             0.7777777777777778,
             "#fb9f3a"
            ],
            [
             0.8888888888888888,
             "#fdca26"
            ],
            [
             1,
             "#f0f921"
            ]
           ]
          },
          "colorway": [
           "#636efa",
           "#EF553B",
           "#00cc96",
           "#ab63fa",
           "#FFA15A",
           "#19d3f3",
           "#FF6692",
           "#B6E880",
           "#FF97FF",
           "#FECB52"
          ],
          "font": {
           "color": "#2a3f5f"
          },
          "geo": {
           "bgcolor": "white",
           "lakecolor": "white",
           "landcolor": "#E5ECF6",
           "showlakes": true,
           "showland": true,
           "subunitcolor": "white"
          },
          "hoverlabel": {
           "align": "left"
          },
          "hovermode": "closest",
          "mapbox": {
           "style": "light"
          },
          "paper_bgcolor": "white",
          "plot_bgcolor": "#E5ECF6",
          "polar": {
           "angularaxis": {
            "gridcolor": "white",
            "linecolor": "white",
            "ticks": ""
           },
           "bgcolor": "#E5ECF6",
           "radialaxis": {
            "gridcolor": "white",
            "linecolor": "white",
            "ticks": ""
           }
          },
          "scene": {
           "xaxis": {
            "backgroundcolor": "#E5ECF6",
            "gridcolor": "white",
            "gridwidth": 2,
            "linecolor": "white",
            "showbackground": true,
            "ticks": "",
            "zerolinecolor": "white"
           },
           "yaxis": {
            "backgroundcolor": "#E5ECF6",
            "gridcolor": "white",
            "gridwidth": 2,
            "linecolor": "white",
            "showbackground": true,
            "ticks": "",
            "zerolinecolor": "white"
           },
           "zaxis": {
            "backgroundcolor": "#E5ECF6",
            "gridcolor": "white",
            "gridwidth": 2,
            "linecolor": "white",
            "showbackground": true,
            "ticks": "",
            "zerolinecolor": "white"
           }
          },
          "shapedefaults": {
           "line": {
            "color": "#2a3f5f"
           }
          },
          "ternary": {
           "aaxis": {
            "gridcolor": "white",
            "linecolor": "white",
            "ticks": ""
           },
           "baxis": {
            "gridcolor": "white",
            "linecolor": "white",
            "ticks": ""
           },
           "bgcolor": "#E5ECF6",
           "caxis": {
            "gridcolor": "white",
            "linecolor": "white",
            "ticks": ""
           }
          },
          "title": {
           "x": 0.05
          },
          "xaxis": {
           "automargin": true,
           "gridcolor": "white",
           "linecolor": "white",
           "ticks": "",
           "title": {
            "standoff": 15
           },
           "zerolinecolor": "white",
           "zerolinewidth": 2
          },
          "yaxis": {
           "automargin": true,
           "gridcolor": "white",
           "linecolor": "white",
           "ticks": "",
           "title": {
            "standoff": 15
           },
           "zerolinecolor": "white",
           "zerolinewidth": 2
          }
         }
        },
        "xaxis": {
         "anchor": "y",
         "domain": [
          0,
          1
         ],
         "title": {
          "text": "to"
         }
        },
        "yaxis": {
         "anchor": "x",
         "domain": [
          0,
          1
         ],
         "title": {
          "text": "from"
         }
        }
       }
      },
      "text/html": [
       "<div>                            <div id=\"dc52bb7c-709d-455f-a418-3d1c4613b409\" class=\"plotly-graph-div\" style=\"height:525px; width:100%;\"></div>            <script type=\"text/javascript\">                require([\"plotly\"], function(Plotly) {                    window.PLOTLYENV=window.PLOTLYENV || {};                                    if (document.getElementById(\"dc52bb7c-709d-455f-a418-3d1c4613b409\")) {                    Plotly.newPlot(                        \"dc52bb7c-709d-455f-a418-3d1c4613b409\",                        [{\"alignmentgroup\":\"True\",\"hovertemplate\":\"to=%{x}<br>from=%{y}<extra></extra>\",\"legendgroup\":\"\",\"marker\":{\"color\":\"#636efa\",\"pattern\":{\"shape\":\"\"}},\"name\":\"\",\"offsetgroup\":\"\",\"orientation\":\"v\",\"showlegend\":false,\"textposition\":\"auto\",\"x\":[\"Python\",\"Javascript\",\"DotNET\",\"Scala\",\"PostgreSQL\",\"Python\",\"NodeJS\",\"Golang\",\"Golang\",\"Golang\",\"Golang\",\"Golang\",\"Golang\",\"Golang\",\"Riak\",\"PostgreSQL\",\"MySQL\",\"PostgreSQL\",\"Ruby\",\"CoffeeScript\",\"NodeJS\",\"Golang\",\"Golang\",\"Golang\",\"Golang\",\"Golang\",\"Hack\",\"OVH\",\"Polymer\",\"Dart\",\"Dart\",\"C++\",\"Golang\",\"CitusDB\",\"Elixir\",\"Golang/PostgreSQL\",\"PostgreSQL\",\"PostgreSQL\",\"Golang\",\"Elixir\",\"Golang\",\"Couchbase\",\"Golang\",\"Golang\",\"MySQL\",\"Golang/Java\",\"Golang\",\"Golang\",\"Angular/Dart\",\"Hack\",\"Couchbase\",\"Couchbase\",\"SingleStore\",\"self-managed/own-datacenter\",\"Elixir\",\"Golang\",\"Golang\",\"Cassandra\",\"Cassandra\",\"PostgreSQL\",\"Golang\",\"Golang\",\"CockroachDB\",\"Golang\",\"NodeJS+PostgreSQL\",\"Flutter\",\"TiDB\",\"TypeScript\",\"SingleStore\",\"SingleStore\",\"SingleStore\",\"Dart\",\"Golang\",\"Golang/MongoDB/ElasticSearch/CloudSQL\",\"Golang\",\"PostgreSQL\",\"Clickhouse\",\"vanilla\",\"TiDB\",\"TiDB\",\"TiDB\",\"TiDB\",\"Vitess\",\"DotNetCore\",\"Clickhouse\",\"SingleStore\",\"SingleStore\",\"SingleStore\",\"SingleStore\",\"SingleStore\",\"Golang\",\"Golang\",\"Golang\",\"Rust\",\"AuroraPostgres/DynamoDB\",\"CockroachDB\",\"Golang\",\"ScyllaDB\",\"TiDB\",\"TiDB\",\"TiDB\",\"TiDB\",\"TiDB\",\"Nomad\",\"YugabyteDB\",\"YugabyteDB\",\"PostgreSQL/ElasticSearch/ScyllaDB/Elixir\",\"Loki\",\"Clickhouse\",\"Clickhouse\",\"Caddy\",\"DockerSwarm\",\"SingleStore\",\"SingleStore\",\"SingleStore\",\"SingleStore\",\"SingleStore\",\"SingleStore\",\"ScyllaDB\",\"Golang\",\"Golang\",\"ReactJS\",\"Rust\",\"MongoDB\",\"PostgreSQL\",\"TimescaleDB\",\"Envoy\",\"Rust\",\"Golang\",\"Golang\",\"Golang\",\"ScyllaDB\",\"Svelte\",\"TiDB\",\"TiDB\",\"TiDB\",\"TiDB\",\"TiDB\",\"TiDB\",\"TiDB\",\"TiDB\",\"TiDB\",\"TiDB\",\"TiDB\",\"TiDB\",\"TiDB\",\"YugabyteDB\",\"YugabyteDB\",\"YugabyteDB\",\"YugabyteDB\",\"YugabyteDB\",\"YugabyteDB\",\"YugabyteDB\",\"YugabyteDB/Hasura\",\"ScyllaDB\",\"Linux/Nomad\",\"Golang\",\"Golang\",\"Clickhouse\",\"Aurora\",\"SingleStore\",\"SingleStore\",\"SingleStore\",\"VictoriaMetrics\",\"Clickhouse\",\"CockroachDB\",\"PostgreSQL\",\"GraphQL\",\"Svelte\",\"Golang\",\"Golang\",\"VictoriaMetrics\",\"Golang\",\"PostgreSQL\",\"Envoy\",\"Golang\",\"ScyllaDB\",\"Vite\",\"Vite\",\"SvelteKit\",\"TiDB\",\"TiDB\",\"TiDB\",\"TiDB\",\"TiDB\",\"TiDB\",\"Clickhouse\",\"Kotlin\",\"Golang\",\"ReactNative\",\"Nomad/Consul\",\"Nomad/Firecracker/Kuma\",\"Nomad/Consul\",\"ScyllaDB\",\"ScyllaDB\",\"Tarantool\",\"Nomad\",\"Clickhouse\",\"ClickhouseKeeper/NuRaft\",\"Rust\",\"ScyllaDB\",\"Typescript\",\"TiDB\",\"TiDB\",\"Svelte\",\"PostgreSQL\",\"SingleStore\",\"VictoriaMetrics\",\"VictoriaMetrics\",\"Golang\",\"Kotlin\",\"PostgreSQL\",\"Redis\",\"Rockset\",\"Clickhouse\",\"NodeJS\",\"SingleStore\",\"Hetzner\",\"Clickhouse\",\"Preact\",\"RubyOnRails\",\"SingleStore\",\"SingleStore\",\"RedPanda\",\"Go\",\"ScyllaDB\",\"ScyllaDB\",\"Aerospike\",\"PostgreSQL+Kubernetes\",\"InHouse\",\"TypeScript+Prisma+tRPC\",\"Supabase\",\"htmx\",\"RockyLinux\",\"SingleStore\",\"Nhost\",\"Clickhouse\"],\"xaxis\":\"x\",\"y\":[\"CommonLISP\",\"C/C++\",\"C++\",\"Ruby\",\"MongoDB\",\"Erlang\",\"Ruby\",\"?\",\"Perl\",\"C++\",\"Python/C\",\"Ruby\",\".NET\",\"Ruby\",\"MongoDB\",\"MongoDB\",\"MongoDB\",\"MongoDB\",\"NodeJS\",\"JavaScript\",\"Java\",\"NodeJS\",\"Ruby\",\"PHP\",\"Ruby\",\"Python\",\"PHP\",\"AWS\",\"AngularDart\",\"ActionScript\",\"ActionScript/Flex\",\"Erlang\",\"Ruby/NodeJS\",\"PostgreSQL\",\"Java\",\"PHP/MySQL\",\"MySQL/MongoDB\",\"MongoDB\",\"Scala\",\"Ruby\",\"Ruby\",\"Unknown\",\"Scala\",\"Perl\",\"PostgreSQL\",\"NodeJS\",\"Python\",\"NodeJS\",\"GWT\",\"PHP\",\"Oracle\",\"Oracle\",\"Druid/MongoDB/Redis/Cassandra/Redshift\",\"AWS\",\"Ruby\",\"JRuby\",\"Scala\",\"MongoDB\",\"Riak/Solr\",\"MySQL\",\"PHP\",\"Python\",\"MySQL\",\"PHP\",\"Golang+MongoDB\",\"ReactNative\",\"MySQL\",\"CoffeeScript\",\"MySQL/Hadoop/Hive/Kafka\",\"MSSQLServer\",\"RedShift\",\"Java/Kotlin/ObjC/Swift\",\"Perl/Python\",\"Ruby/MySQL\",\"Python\",\"MongoDB\",\"CitusDB\",\"jQuery\",\"MySQL\",\"MySQL\",\"Hadoop/MSSQLServer\",\"MySQL\",\"MySQL\",\"DotNET\",\"ElsticSearch+LogStash+Kibana/BigQuery\",\"RedShift\",\"Hadoop/MariaDB\",\"MySQL\",\"ElasticSearch\",\"Hadoop\",\"Ruby\",\"PHP\",\"Clojure\",\"Ruby\",\"Oracle\",\"Oracle\",\"Python\",\"Cassandra\",\"MySQL\",\"MySQL\",\"MySQL\",\"MySQL\",\"MSSQLServer\",\"Kubernetes\",\"DynamoDB/PostgreSQL-RDS\",\"MongoDB\",\"MySQL/MongoDB/NodeJS\",\"ElasticSearch\",\"ElsticSearch+LogStash+Kibana\",\"PostgreSQL+Redis\",\"Nginx\",\"Kubernetes\",\"MySQL\",\"Druid\",\"Hadoop\",\"Redis/Cassandra\",\"CouchBase\",\"ElasticSearch\",\"Cassandra\",\"Ruby\",\"Python\",\"EmberJS\",\"Golang\",\"DB2\",\"Oracle\",\"InfluxDB\",\"Nginx\",\"Python\",\"Python\",\"NodeJS\",\"C++\",\"Cassandra\",\"React\",\"MongoDB\",\"MySQL\",\"MySQL\",\"Oracle\",\"MySQL\",\"OracleExadata\",\"MySQL\",\"?\",\"MySQL\",\"MySQL\",\"MySQL\",\"MySQL\",\"MySQL\",\"PostgreSQL\",\"PostgreSQL\",\"MSSQLServer/Cassandra\",\"MSSQLServer\",\"PostgreSQL/MSSQLServer\",\"Cassandra/Neo4j/MSSQLServer/CockroachDB\",\"Cassandra?\",\"DynamoDB\",\"CockroachDB\",\"Windows\",\"Elixir\",\"PHP\",\"ApacheDruid\",\"PostgreSQL\",\"MariaDB\",\"ElasticSearch\",\"MySQL\",\"InfluxDB\",\"MySQL\",\"Cassandra\",\"MongoDB\",\"gRPC\",\"React\",\"Python\",\"PHP\",\"Prometheus\",\"C#\",\"MongoDB\",\"HAProxy\",\"Ruby\",\"Cassandra\",\"RollUp/SnowPack\",\"WebPack\",\"React/Gatsby\",\"MySQL\",\"MySQL\",\"MSSQLServer\",\"MySQL\",\"MySQL\",\"MySQL\",\"RedShift\",\"Elixir\",\"Python\",\"Native\",\"Kubernetes\",\"Kubernetes\",\"Kubernetes\",\"Cassandra\",\"Cassandra\",\"Redis\",\"Kubernetes\",\"ElsticSearch+LogStash+Kibana\",\"ZooKeeper\",\"Pony\",\"Cassandra\",\"Javascript\",\"MySQL\",\"MySQL\",\"React\",\"MongoDB\",\"MySQL/Redis/DynamoDB\",\"Thanos\",\"Prometheus\",\"NodeJS\",\"Python\",\"MongoDB\",\"MongoDB+Meteor\",\"ElasticSearch\",\"Druid\",\"Ruby\",\"PostgreSQL\",\"AWS\",\"nindex\",\"React\",\"React\",\"PostgreSQL\",\"MongoDB\",\"AmazonKinesis/Kafka\",\"NodeJS\",\"PostgreSQL/Cassandra\",\"Cassandra\",\"HBase\",\"PostgreSQL-RDS\",\"AWS\",\"Golang+GraphQL\",\"Firebase\",\"React\",\"RedHat\",\"MariaDB\",\"Firebase\",\"BigQuery\"],\"yaxis\":\"y\",\"type\":\"bar\"}],                        {\"template\":{\"data\":{\"histogram2dcontour\":[{\"type\":\"histogram2dcontour\",\"colorbar\":{\"outlinewidth\":0,\"ticks\":\"\"},\"colorscale\":[[0.0,\"#0d0887\"],[0.1111111111111111,\"#46039f\"],[0.2222222222222222,\"#7201a8\"],[0.3333333333333333,\"#9c179e\"],[0.4444444444444444,\"#bd3786\"],[0.5555555555555556,\"#d8576b\"],[0.6666666666666666,\"#ed7953\"],[0.7777777777777778,\"#fb9f3a\"],[0.8888888888888888,\"#fdca26\"],[1.0,\"#f0f921\"]]}],\"choropleth\":[{\"type\":\"choropleth\",\"colorbar\":{\"outlinewidth\":0,\"ticks\":\"\"}}],\"histogram2d\":[{\"type\":\"histogram2d\",\"colorbar\":{\"outlinewidth\":0,\"ticks\":\"\"},\"colorscale\":[[0.0,\"#0d0887\"],[0.1111111111111111,\"#46039f\"],[0.2222222222222222,\"#7201a8\"],[0.3333333333333333,\"#9c179e\"],[0.4444444444444444,\"#bd3786\"],[0.5555555555555556,\"#d8576b\"],[0.6666666666666666,\"#ed7953\"],[0.7777777777777778,\"#fb9f3a\"],[0.8888888888888888,\"#fdca26\"],[1.0,\"#f0f921\"]]}],\"heatmap\":[{\"type\":\"heatmap\",\"colorbar\":{\"outlinewidth\":0,\"ticks\":\"\"},\"colorscale\":[[0.0,\"#0d0887\"],[0.1111111111111111,\"#46039f\"],[0.2222222222222222,\"#7201a8\"],[0.3333333333333333,\"#9c179e\"],[0.4444444444444444,\"#bd3786\"],[0.5555555555555556,\"#d8576b\"],[0.6666666666666666,\"#ed7953\"],[0.7777777777777778,\"#fb9f3a\"],[0.8888888888888888,\"#fdca26\"],[1.0,\"#f0f921\"]]}],\"heatmapgl\":[{\"type\":\"heatmapgl\",\"colorbar\":{\"outlinewidth\":0,\"ticks\":\"\"},\"colorscale\":[[0.0,\"#0d0887\"],[0.1111111111111111,\"#46039f\"],[0.2222222222222222,\"#7201a8\"],[0.3333333333333333,\"#9c179e\"],[0.4444444444444444,\"#bd3786\"],[0.5555555555555556,\"#d8576b\"],[0.6666666666666666,\"#ed7953\"],[0.7777777777777778,\"#fb9f3a\"],[0.8888888888888888,\"#fdca26\"],[1.0,\"#f0f921\"]]}],\"contourcarpet\":[{\"type\":\"contourcarpet\",\"colorbar\":{\"outlinewidth\":0,\"ticks\":\"\"}}],\"contour\":[{\"type\":\"contour\",\"colorbar\":{\"outlinewidth\":0,\"ticks\":\"\"},\"colorscale\":[[0.0,\"#0d0887\"],[0.1111111111111111,\"#46039f\"],[0.2222222222222222,\"#7201a8\"],[0.3333333333333333,\"#9c179e\"],[0.4444444444444444,\"#bd3786\"],[0.5555555555555556,\"#d8576b\"],[0.6666666666666666,\"#ed7953\"],[0.7777777777777778,\"#fb9f3a\"],[0.8888888888888888,\"#fdca26\"],[1.0,\"#f0f921\"]]}],\"surface\":[{\"type\":\"surface\",\"colorbar\":{\"outlinewidth\":0,\"ticks\":\"\"},\"colorscale\":[[0.0,\"#0d0887\"],[0.1111111111111111,\"#46039f\"],[0.2222222222222222,\"#7201a8\"],[0.3333333333333333,\"#9c179e\"],[0.4444444444444444,\"#bd3786\"],[0.5555555555555556,\"#d8576b\"],[0.6666666666666666,\"#ed7953\"],[0.7777777777777778,\"#fb9f3a\"],[0.8888888888888888,\"#fdca26\"],[1.0,\"#f0f921\"]]}],\"mesh3d\":[{\"type\":\"mesh3d\",\"colorbar\":{\"outlinewidth\":0,\"ticks\":\"\"}}],\"scatter\":[{\"fillpattern\":{\"fillmode\":\"overlay\",\"size\":10,\"solidity\":0.2},\"type\":\"scatter\"}],\"parcoords\":[{\"type\":\"parcoords\",\"line\":{\"colorbar\":{\"outlinewidth\":0,\"ticks\":\"\"}}}],\"scatterpolargl\":[{\"type\":\"scatterpolargl\",\"marker\":{\"colorbar\":{\"outlinewidth\":0,\"ticks\":\"\"}}}],\"bar\":[{\"error_x\":{\"color\":\"#2a3f5f\"},\"error_y\":{\"color\":\"#2a3f5f\"},\"marker\":{\"line\":{\"color\":\"#E5ECF6\",\"width\":0.5},\"pattern\":{\"fillmode\":\"overlay\",\"size\":10,\"solidity\":0.2}},\"type\":\"bar\"}],\"scattergeo\":[{\"type\":\"scattergeo\",\"marker\":{\"colorbar\":{\"outlinewidth\":0,\"ticks\":\"\"}}}],\"scatterpolar\":[{\"type\":\"scatterpolar\",\"marker\":{\"colorbar\":{\"outlinewidth\":0,\"ticks\":\"\"}}}],\"histogram\":[{\"marker\":{\"pattern\":{\"fillmode\":\"overlay\",\"size\":10,\"solidity\":0.2}},\"type\":\"histogram\"}],\"scattergl\":[{\"type\":\"scattergl\",\"marker\":{\"colorbar\":{\"outlinewidth\":0,\"ticks\":\"\"}}}],\"scatter3d\":[{\"type\":\"scatter3d\",\"line\":{\"colorbar\":{\"outlinewidth\":0,\"ticks\":\"\"}},\"marker\":{\"colorbar\":{\"outlinewidth\":0,\"ticks\":\"\"}}}],\"scattermapbox\":[{\"type\":\"scattermapbox\",\"marker\":{\"colorbar\":{\"outlinewidth\":0,\"ticks\":\"\"}}}],\"scatterternary\":[{\"type\":\"scatterternary\",\"marker\":{\"colorbar\":{\"outlinewidth\":0,\"ticks\":\"\"}}}],\"scattercarpet\":[{\"type\":\"scattercarpet\",\"marker\":{\"colorbar\":{\"outlinewidth\":0,\"ticks\":\"\"}}}],\"carpet\":[{\"aaxis\":{\"endlinecolor\":\"#2a3f5f\",\"gridcolor\":\"white\",\"linecolor\":\"white\",\"minorgridcolor\":\"white\",\"startlinecolor\":\"#2a3f5f\"},\"baxis\":{\"endlinecolor\":\"#2a3f5f\",\"gridcolor\":\"white\",\"linecolor\":\"white\",\"minorgridcolor\":\"white\",\"startlinecolor\":\"#2a3f5f\"},\"type\":\"carpet\"}],\"table\":[{\"cells\":{\"fill\":{\"color\":\"#EBF0F8\"},\"line\":{\"color\":\"white\"}},\"header\":{\"fill\":{\"color\":\"#C8D4E3\"},\"line\":{\"color\":\"white\"}},\"type\":\"table\"}],\"barpolar\":[{\"marker\":{\"line\":{\"color\":\"#E5ECF6\",\"width\":0.5},\"pattern\":{\"fillmode\":\"overlay\",\"size\":10,\"solidity\":0.2}},\"type\":\"barpolar\"}],\"pie\":[{\"automargin\":true,\"type\":\"pie\"}]},\"layout\":{\"autotypenumbers\":\"strict\",\"colorway\":[\"#636efa\",\"#EF553B\",\"#00cc96\",\"#ab63fa\",\"#FFA15A\",\"#19d3f3\",\"#FF6692\",\"#B6E880\",\"#FF97FF\",\"#FECB52\"],\"font\":{\"color\":\"#2a3f5f\"},\"hovermode\":\"closest\",\"hoverlabel\":{\"align\":\"left\"},\"paper_bgcolor\":\"white\",\"plot_bgcolor\":\"#E5ECF6\",\"polar\":{\"bgcolor\":\"#E5ECF6\",\"angularaxis\":{\"gridcolor\":\"white\",\"linecolor\":\"white\",\"ticks\":\"\"},\"radialaxis\":{\"gridcolor\":\"white\",\"linecolor\":\"white\",\"ticks\":\"\"}},\"ternary\":{\"bgcolor\":\"#E5ECF6\",\"aaxis\":{\"gridcolor\":\"white\",\"linecolor\":\"white\",\"ticks\":\"\"},\"baxis\":{\"gridcolor\":\"white\",\"linecolor\":\"white\",\"ticks\":\"\"},\"caxis\":{\"gridcolor\":\"white\",\"linecolor\":\"white\",\"ticks\":\"\"}},\"coloraxis\":{\"colorbar\":{\"outlinewidth\":0,\"ticks\":\"\"}},\"colorscale\":{\"sequential\":[[0.0,\"#0d0887\"],[0.1111111111111111,\"#46039f\"],[0.2222222222222222,\"#7201a8\"],[0.3333333333333333,\"#9c179e\"],[0.4444444444444444,\"#bd3786\"],[0.5555555555555556,\"#d8576b\"],[0.6666666666666666,\"#ed7953\"],[0.7777777777777778,\"#fb9f3a\"],[0.8888888888888888,\"#fdca26\"],[1.0,\"#f0f921\"]],\"sequentialminus\":[[0.0,\"#0d0887\"],[0.1111111111111111,\"#46039f\"],[0.2222222222222222,\"#7201a8\"],[0.3333333333333333,\"#9c179e\"],[0.4444444444444444,\"#bd3786\"],[0.5555555555555556,\"#d8576b\"],[0.6666666666666666,\"#ed7953\"],[0.7777777777777778,\"#fb9f3a\"],[0.8888888888888888,\"#fdca26\"],[1.0,\"#f0f921\"]],\"diverging\":[[0,\"#8e0152\"],[0.1,\"#c51b7d\"],[0.2,\"#de77ae\"],[0.3,\"#f1b6da\"],[0.4,\"#fde0ef\"],[0.5,\"#f7f7f7\"],[0.6,\"#e6f5d0\"],[0.7,\"#b8e186\"],[0.8,\"#7fbc41\"],[0.9,\"#4d9221\"],[1,\"#276419\"]]},\"xaxis\":{\"gridcolor\":\"white\",\"linecolor\":\"white\",\"ticks\":\"\",\"title\":{\"standoff\":15},\"zerolinecolor\":\"white\",\"automargin\":true,\"zerolinewidth\":2},\"yaxis\":{\"gridcolor\":\"white\",\"linecolor\":\"white\",\"ticks\":\"\",\"title\":{\"standoff\":15},\"zerolinecolor\":\"white\",\"automargin\":true,\"zerolinewidth\":2},\"scene\":{\"xaxis\":{\"backgroundcolor\":\"#E5ECF6\",\"gridcolor\":\"white\",\"linecolor\":\"white\",\"showbackground\":true,\"ticks\":\"\",\"zerolinecolor\":\"white\",\"gridwidth\":2},\"yaxis\":{\"backgroundcolor\":\"#E5ECF6\",\"gridcolor\":\"white\",\"linecolor\":\"white\",\"showbackground\":true,\"ticks\":\"\",\"zerolinecolor\":\"white\",\"gridwidth\":2},\"zaxis\":{\"backgroundcolor\":\"#E5ECF6\",\"gridcolor\":\"white\",\"linecolor\":\"white\",\"showbackground\":true,\"ticks\":\"\",\"zerolinecolor\":\"white\",\"gridwidth\":2}},\"shapedefaults\":{\"line\":{\"color\":\"#2a3f5f\"}},\"annotationdefaults\":{\"arrowcolor\":\"#2a3f5f\",\"arrowhead\":0,\"arrowwidth\":1},\"geo\":{\"bgcolor\":\"white\",\"landcolor\":\"#E5ECF6\",\"subunitcolor\":\"white\",\"showland\":true,\"showlakes\":true,\"lakecolor\":\"white\"},\"title\":{\"x\":0.05},\"mapbox\":{\"style\":\"light\"}}},\"xaxis\":{\"anchor\":\"y\",\"domain\":[0.0,1.0],\"title\":{\"text\":\"to\"}},\"yaxis\":{\"anchor\":\"x\",\"domain\":[0.0,1.0],\"title\":{\"text\":\"from\"}},\"legend\":{\"tracegroupgap\":0},\"margin\":{\"t\":60},\"barmode\":\"relative\"},                        {\"responsive\": true}                    ).then(function(){\n",
       "                            \n",
       "var gd = document.getElementById('dc52bb7c-709d-455f-a418-3d1c4613b409');\n",
       "var x = new MutationObserver(function (mutations, observer) {{\n",
       "        var display = window.getComputedStyle(gd).display;\n",
       "        if (!display || display === 'none') {{\n",
       "            console.log([gd, 'removed!']);\n",
       "            Plotly.purge(gd);\n",
       "            observer.disconnect();\n",
       "        }}\n",
       "}});\n",
       "\n",
       "// Listen for the removal of the full notebook cells\n",
       "var notebookContainer = gd.closest('#notebook-container');\n",
       "if (notebookContainer) {{\n",
       "    x.observe(notebookContainer, {childList: true});\n",
       "}}\n",
       "\n",
       "// Listen for the clearing of the current output cell\n",
       "var outputEl = gd.closest('.output');\n",
       "if (outputEl) {{\n",
       "    x.observe(outputEl, {childList: true});\n",
       "}}\n",
       "\n",
       "                        })                };                });            </script>        </div>"
      ]
     },
     "metadata": {},
     "output_type": "display_data"
    }
   ],
   "source": [
    "plt = px.bar(migrations, x='from', y='year')\n",
    "plt.show()"
   ]
  }
 ],
 "metadata": {
  "kernelspec": {
   "display_name": "Python 3 (ipykernel)",
   "language": "python",
   "name": "python3"
  },
  "language_info": {
   "codemirror_mode": {
    "name": "ipython",
    "version": 3
   },
   "file_extension": ".py",
   "mimetype": "text/x-python",
   "name": "python",
   "nbconvert_exporter": "python",
   "pygments_lexer": "ipython3",
   "version": "3.9.13"
  },
  "vscode": {
   "interpreter": {
    "hash": "7b622edddc86813b910e9ddec887c74ff5a70b2b0f99180395ce0204e1dc4c37"
   }
  }
 },
 "nbformat": 4,
 "nbformat_minor": 2
}
