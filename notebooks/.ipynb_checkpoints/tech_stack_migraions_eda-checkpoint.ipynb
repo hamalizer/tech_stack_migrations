{
 "cells": [
  {
   "cell_type": "markdown",
   "metadata": {},
   "source": [
    "# Tech Stack Migrations Analysis <a id='back'></a> \n",
    "\n",
    "* [Introduction](#intro)\n",
    "* [1 Data Overview and Preprocessing](#data_over)\n",
    "    * [1.1 Imports and Load Data](#load)\n",
    "    * [1.2 Dataset Overview Data](#data_over)\n",
    "* [2 Study User Behavior](#study)\n",
    "    * [2.1 User Count](#user_stud)\n",
    "    * [2.2 Calls](#calls_stud)\n",
    "    * [2.3 Messages](#messages_stud)\n",
    "    * [2.4 Internet](#internet_stud)\n",
    "    * [2.5 Revenue](#revenue_stud)\n",
    "    * [2.6  Study Conclusion](#conc_stud)\n",
    "* [3 Test Statistical Hypotheses](#test_hyp)\n",
    "    * [3.1 First Hypothesis](#hyp_1)\n",
    "    * [3.2 Second Hypothesis](#hyp_2)\n",
    "* [4 Final Conclusion](#conc_fin)"
   ]
  },
  {
   "cell_type": "markdown",
   "metadata": {},
   "source": [
    "# Introduction <a id='intro'></a>\n",
    "\n"
   ]
  },
  {
   "cell_type": "code",
   "execution_count": 2,
   "metadata": {},
   "outputs": [],
   "source": [
    "# importing pandas, a general data-management library\n",
    "import pandas as pd\n",
    "\n",
    "# importing numpy, a general statistics library\n",
    "import numpy as np\n",
    "\n",
    "# importing pyplot, a graph plotting library\n",
    "from matplotlib import pyplot as plt \n",
    "\n",
    "# importing scipy, a statistical analysis library\n",
    "from scipy import stats as st"
   ]
  },
  {
   "cell_type": "code",
   "execution_count": 3,
   "metadata": {},
   "outputs": [
    {
     "name": "stdout",
     "output_type": "stream",
     "text": [
      "<class 'pandas.core.frame.DataFrame'>\n",
      "RangeIndex: 237 entries, 0 to 236\n",
      "Data columns (total 5 columns):\n",
      " #   Column   Non-Null Count  Dtype \n",
      "---  ------   --------------  ----- \n",
      " 0   company  237 non-null    object\n",
      " 1   url      237 non-null    object\n",
      " 2   year     237 non-null    int64 \n",
      " 3   from     237 non-null    object\n",
      " 4   to       237 non-null    object\n",
      "dtypes: int64(1), object(4)\n",
      "memory usage: 9.4+ KB\n"
     ]
    },
    {
     "data": {
      "text/html": [
       "<div>\n",
       "<style scoped>\n",
       "    .dataframe tbody tr th:only-of-type {\n",
       "        vertical-align: middle;\n",
       "    }\n",
       "\n",
       "    .dataframe tbody tr th {\n",
       "        vertical-align: top;\n",
       "    }\n",
       "\n",
       "    .dataframe thead th {\n",
       "        text-align: right;\n",
       "    }\n",
       "</style>\n",
       "<table border=\"1\" class=\"dataframe\">\n",
       "  <thead>\n",
       "    <tr style=\"text-align: right;\">\n",
       "      <th></th>\n",
       "      <th>year</th>\n",
       "    </tr>\n",
       "  </thead>\n",
       "  <tbody>\n",
       "    <tr>\n",
       "      <th>count</th>\n",
       "      <td>237.000000</td>\n",
       "    </tr>\n",
       "    <tr>\n",
       "      <th>mean</th>\n",
       "      <td>2018.345992</td>\n",
       "    </tr>\n",
       "    <tr>\n",
       "      <th>std</th>\n",
       "      <td>3.217819</td>\n",
       "    </tr>\n",
       "    <tr>\n",
       "      <th>min</th>\n",
       "      <td>2005.000000</td>\n",
       "    </tr>\n",
       "    <tr>\n",
       "      <th>25%</th>\n",
       "      <td>2017.000000</td>\n",
       "    </tr>\n",
       "    <tr>\n",
       "      <th>50%</th>\n",
       "      <td>2019.000000</td>\n",
       "    </tr>\n",
       "    <tr>\n",
       "      <th>75%</th>\n",
       "      <td>2021.000000</td>\n",
       "    </tr>\n",
       "    <tr>\n",
       "      <th>max</th>\n",
       "      <td>2023.000000</td>\n",
       "    </tr>\n",
       "  </tbody>\n",
       "</table>\n",
       "</div>"
      ],
      "text/plain": [
       "              year\n",
       "count   237.000000\n",
       "mean   2018.345992\n",
       "std       3.217819\n",
       "min    2005.000000\n",
       "25%    2017.000000\n",
       "50%    2019.000000\n",
       "75%    2021.000000\n",
       "max    2023.000000"
      ]
     },
     "metadata": {},
     "output_type": "display_data"
    },
    {
     "data": {
      "text/html": [
       "<div>\n",
       "<style scoped>\n",
       "    .dataframe tbody tr th:only-of-type {\n",
       "        vertical-align: middle;\n",
       "    }\n",
       "\n",
       "    .dataframe tbody tr th {\n",
       "        vertical-align: top;\n",
       "    }\n",
       "\n",
       "    .dataframe thead th {\n",
       "        text-align: right;\n",
       "    }\n",
       "</style>\n",
       "<table border=\"1\" class=\"dataframe\">\n",
       "  <thead>\n",
       "    <tr style=\"text-align: right;\">\n",
       "      <th></th>\n",
       "      <th>company</th>\n",
       "      <th>url</th>\n",
       "      <th>year</th>\n",
       "      <th>from</th>\n",
       "      <th>to</th>\n",
       "    </tr>\n",
       "  </thead>\n",
       "  <tbody>\n",
       "    <tr>\n",
       "      <th>201</th>\n",
       "      <td>Etsy</td>\n",
       "      <td>https://codeascraft.com/2021/11/08/etsys-journ...</td>\n",
       "      <td>2021</td>\n",
       "      <td>Javascript</td>\n",
       "      <td>Typescript</td>\n",
       "    </tr>\n",
       "    <tr>\n",
       "      <th>130</th>\n",
       "      <td>PayPal</td>\n",
       "      <td>https://go.dev/solutions/paypal/</td>\n",
       "      <td>2020</td>\n",
       "      <td>C++</td>\n",
       "      <td>Golang</td>\n",
       "    </tr>\n",
       "    <tr>\n",
       "      <th>88</th>\n",
       "      <td>Fanatics</td>\n",
       "      <td>https://www.singlestore.com/blog/how-fanatics-...</td>\n",
       "      <td>2018</td>\n",
       "      <td>ElasticSearch</td>\n",
       "      <td>SingleStore</td>\n",
       "    </tr>\n",
       "    <tr>\n",
       "      <th>95</th>\n",
       "      <td>2FintechGiants</td>\n",
       "      <td>https://www.youtube.com/watch?v=IG1E7O1rl-s</td>\n",
       "      <td>2019</td>\n",
       "      <td>Oracle</td>\n",
       "      <td>CockroachDB</td>\n",
       "    </tr>\n",
       "    <tr>\n",
       "      <th>211</th>\n",
       "      <td>WeWatch</td>\n",
       "      <td>https://jerseyfonseca.com/blogs/mongodb-to-pos...</td>\n",
       "      <td>2021</td>\n",
       "      <td>MongoDB</td>\n",
       "      <td>PostgreSQL</td>\n",
       "    </tr>\n",
       "  </tbody>\n",
       "</table>\n",
       "</div>"
      ],
      "text/plain": [
       "            company                                                url  year  \\\n",
       "201            Etsy  https://codeascraft.com/2021/11/08/etsys-journ...  2021   \n",
       "130          PayPal                   https://go.dev/solutions/paypal/  2020   \n",
       "88         Fanatics  https://www.singlestore.com/blog/how-fanatics-...  2018   \n",
       "95   2FintechGiants        https://www.youtube.com/watch?v=IG1E7O1rl-s  2019   \n",
       "211         WeWatch  https://jerseyfonseca.com/blogs/mongodb-to-pos...  2021   \n",
       "\n",
       "              from           to  \n",
       "201     Javascript   Typescript  \n",
       "130            C++       Golang  \n",
       "88   ElasticSearch  SingleStore  \n",
       "95          Oracle  CockroachDB  \n",
       "211        MongoDB   PostgreSQL  "
      ]
     },
     "metadata": {},
     "output_type": "display_data"
    }
   ],
   "source": [
    "# Load the dataset into a dataframe\n",
    "migrations = pd.read_csv('migrations.csv')\n",
    "\n",
    "# Display general information about the dataset \n",
    "migrations.info()\n",
    "display(migrations.describe())\n",
    "display(migrations.sample(n=5, random_state=1))"
   ]
  },
  {
   "cell_type": "code",
   "execution_count": null,
   "metadata": {},
   "outputs": [],
   "source": []
  }
 ],
 "metadata": {
  "kernelspec": {
   "display_name": "Python 3 (ipykernel)",
   "language": "python",
   "name": "python3"
  },
  "language_info": {
   "codemirror_mode": {
    "name": "ipython",
    "version": 3
   },
   "file_extension": ".py",
   "mimetype": "text/x-python",
   "name": "python",
   "nbconvert_exporter": "python",
   "pygments_lexer": "ipython3",
   "version": "3.9.13"
  },
  "vscode": {
   "interpreter": {
    "hash": "7b622edddc86813b910e9ddec887c74ff5a70b2b0f99180395ce0204e1dc4c37"
   }
  }
 },
 "nbformat": 4,
 "nbformat_minor": 2
}
